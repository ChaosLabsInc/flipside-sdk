{
 "cells": [
  {
   "cell_type": "markdown",
   "metadata": {},
   "source": [
    "# Intro to ShroomDK: Getting Started\n",
    "\n",
    "<em>install ShroomDK with pip</em><br/>\n",
    "`pip install shroomdk`"
   ]
  },
  {
   "cell_type": "markdown",
   "metadata": {},
   "source": [
    "Import the package"
   ]
  },
  {
   "cell_type": "code",
   "execution_count": 1,
   "metadata": {},
   "outputs": [],
   "source": [
    "from shroomdk import ShroomDK"
   ]
  },
  {
   "cell_type": "markdown",
   "metadata": {},
   "source": [
    "Run your first query<br/>\n",
    "<em>Remember to copy/paste your API Key from https://sdk.flipsidecrypto.xyz below.</em>"
   ]
  },
  {
   "cell_type": "code",
   "execution_count": 2,
   "metadata": {},
   "outputs": [],
   "source": [
    "import os\n",
    "YOUR_API_KEY = os.environ.get(\"SHROOMDK_API_KEY\")\n",
    "\n",
    "# Invoke the ShroomDK class to create an instance of the SDK\n",
    "sdk = ShroomDK(YOUR_API_KEY)\n",
    "\n",
    "# Run a query\n",
    "query_result_set = sdk.query(\"\"\"\n",
    "    SELECT * FROM ethereum.core.ez_eth_transfers \n",
    "    WHERE \n",
    "        block_timestamp > GETDATE() - interval'90 days'\n",
    "        AND \n",
    "            (eth_from_address = lower('0xc2f41b3a1ff28fd2a6eee76ee12e51482fcfd11f')\n",
    "            OR eth_to_address = lower('0xc2f41b3a1ff28fd2a6eee76ee12e51482fcfd11f'))\n",
    "\"\"\")"
   ]
  },
  {
   "cell_type": "markdown",
   "metadata": {},
   "source": [
    "### Query Result Set\n",
    "\n",
    "```python\n",
    "class QueryResultSet(BaseModel):\n",
    "    query_id: Union[str, None] = Field(None, description=\"The server id of the query\")\n",
    "    status: str = Field(False, description=\"The status of the query (`PENDING`, `FINISHED`, `ERROR`)\")\n",
    "    columns: Union[List[str], None] = Field(None, description=\"The names of the columns in the result set\")\n",
    "    column_types: Union[List[str], None] = Field(None, description=\"The type of the columns in the result set\")\n",
    "    rows: Union[List[Any], None] = Field(None, description=\"The results of the query\")\n",
    "    run_stats: Union[QueryRunStats, None] = Field(\n",
    "        None,\n",
    "        description=\"Summary stats on the query run (i.e. the number of rows returned, the elapsed time, etc)\",\n",
    "    )\n",
    "    records: Union[List[Any], None] = Field(None, description=\"The results of the query transformed as an array of objects\")\n",
    "    error: Any\n",
    "\n",
    "```"
   ]
  },
  {
   "cell_type": "code",
   "execution_count": 6,
   "metadata": {},
   "outputs": [
    {
     "name": "stdout",
     "output_type": "stream",
     "text": [
      "{'tx_hash': '0x799f8b4e18f6d4d9b7de6790b5efc9efdbcb27769353087d3361f672bfb2d41f', 'block_number': 15092844, 'block_timestamp': '2022-07-07 02:52:50.000', 'identifier': 'CALL_ORIGIN', 'origin_from_address': '0xc2f41b3a1ff28fd2a6eee76ee12e51482fcfd11f', 'origin_to_address': '0xd39badbf89f503dd77679052dc0263558fe48f00', 'origin_function_signature': '0x', 'eth_from_address': '0xc2f41b3a1ff28fd2a6eee76ee12e51482fcfd11f', 'eth_to_address': '0xd39badbf89f503dd77679052dc0263558fe48f00', 'amount': 0.027, 'amount_usd': 31.78, '_call_id': '0x799f8b4e18f6d4d9b7de6790b5efc9efdbcb27769353087d3361f672bfb2d41f-CALL_ORIGIN', '_inserted_timestamp': '2022-07-09 19:51:39.953'}\n"
     ]
    }
   ],
   "source": [
    "## Explore the result set object\n",
    "\n",
    "records = query_result_set.records\n",
    "\n",
    "print(records[0])"
   ]
  }
 ],
 "metadata": {
  "kernelspec": {
   "display_name": "Python 3.10.1 64-bit",
   "language": "python",
   "name": "python3"
  },
  "language_info": {
   "codemirror_mode": {
    "name": "ipython",
    "version": 3
   },
   "file_extension": ".py",
   "mimetype": "text/x-python",
   "name": "python",
   "nbconvert_exporter": "python",
   "pygments_lexer": "ipython3",
   "version": "3.10.1"
  },
  "orig_nbformat": 4,
  "vscode": {
   "interpreter": {
    "hash": "949777d72b0d2535278d3dc13498b2535136f6dfe0678499012e853ee9abcab1"
   }
  }
 },
 "nbformat": 4,
 "nbformat_minor": 2
}

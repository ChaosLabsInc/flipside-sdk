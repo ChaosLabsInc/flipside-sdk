{
 "cells": [
  {
   "cell_type": "markdown",
   "metadata": {},
   "source": [
    "### Feature Exploration\n",
    "In this notebook we'll explore some of the features of the SDK, such as caching and pagination."
   ]
  },
  {
   "cell_type": "code",
   "execution_count": null,
   "metadata": {},
   "outputs": [],
   "source": [
    "import os\n",
    "\n",
    "from flipside import Flipside\n",
    "\n",
    "YOUR_API_KEY = os.environ.get(\"FLIPSIDE_API_KEY\")\n",
    "\n",
    "sdk = Flipside(YOUR_API_KEY)"
   ]
  },
  {
   "cell_type": "markdown",
   "metadata": {},
   "source": [
    "### The Query\n",
    "Get all the projects that Moonbird NFT minters have bought/sold over the past 30 days aggregated by total sales. "
   ]
  },
  {
   "cell_type": "markdown",
   "metadata": {},
   "source": [
    "```sql\n",
    "with moonbirds_minters as (\n",
    "\tSELECT\n",
    "    \tdistinct nft_to_address as addr\n",
    "\tFROM ethereum.core.ez_nft_mints\n",
    "\tWHERE \n",
    "  \t\tnft_address = lower('0x23581767a106ae21c074b2276D25e5C3e136a68b')\n",
    "\tORDER BY 1 DESC\n",
    "),\n",
    "sellers as (\n",
    "  SELECT\n",
    "  \ts.nft_address as addr,\n",
    "  \ts.project_name,\n",
    "  \tcount(distinct s.seller_address) as uniq_sellers,\n",
    "  \tcount(1) as num_sales,\n",
    "  \tsum(price_usd) as usd_volume\n",
    "  FROM ethereum.core.ez_nft_sales s\n",
    "  INNER JOIN moonbirds_minters mm ON mm.addr = s.seller_address\n",
    "  WHERE\n",
    "      block_timestamp >= GETDATE() - interval'30 days'\n",
    "  GROUP BY 1,2\n",
    "  ORDER BY 1 DESC\n",
    "),\n",
    "buyers as (\n",
    "  SELECT\n",
    "  \ts.nft_address as addr,\n",
    "  \ts.project_name,\n",
    "  \tcount(distinct s.buyer_address) as uniq_buyers,\n",
    "  \tcount(1) as num_sales,\n",
    "  \tsum(price_usd) as usd_volume\n",
    "  FROM ethereum.core.ez_nft_sales s\n",
    "  INNER JOIN moonbirds_minters mm ON mm.addr = s.buyer_address\n",
    "  WHERE\n",
    "      block_timestamp >= GETDATE() - interval'30 days'\n",
    "  GROUP BY 1,2\n",
    "  ORDER BY 1 DESC\n",
    "),\n",
    "addresses as (\n",
    "  SELECT\n",
    "  \tcoalesce(sellers.addr, buyers.addr) as addr,\n",
    "  \tcoalesce(sellers.project_name, buyers.project_name) as project_name\n",
    "  FROM sellers\n",
    "  LEFT OUTER JOIN buyers ON buyers.addr = sellers.addr\n",
    ")\n",
    "SELECT\n",
    "\taddresses.addr,\n",
    "\taddresses.project_name,\n",
    "\tcoalesce(addresses.project_name, addresses.addr) as project,\n",
    "\tcoalesce(s.uniq_sellers, 0) as uniq_sellers,\n",
    "\tcoalesce(b.uniq_buyers, 0) as uniq_buyers,\n",
    "\tcoalesce(s.num_sales, 0) as sale_count,\n",
    "\tcoalesce(b.num_sales, 0) as buy_count,\n",
    "\tcoalesce(s.num_sales, 0) + coalesce(b.num_sales, 0) as total_sale_count,\n",
    "\tcoalesce(s.usd_volume, 0) as sale_vol_usd,\n",
    "\tcoalesce(b.usd_volume, 0) as buy_vol_usd,\n",
    "\tcoalesce(s.usd_volume, 0) + coalesce(b.usd_volume, 0) as total_vol_usd\n",
    "FROM addresses \n",
    "LEFT OUTER JOIN buyers b ON b.addr = addresses.addr\n",
    "LEFT OUTER JOIN sellers s ON s.addr = addresses.addr\n",
    "order by 9 desc\n",
    "```"
   ]
  },
  {
   "cell_type": "code",
   "execution_count": null,
   "metadata": {},
   "outputs": [],
   "source": [
    "# Read the above sql from a file and assign to `sql` variable\n",
    "sql_statement = open(\"sql/minter_sales_agg.sql\").read()"
   ]
  },
  {
   "cell_type": "markdown",
   "metadata": {},
   "source": [
    "Execute the query"
   ]
  },
  {
   "cell_type": "code",
   "execution_count": null,
   "metadata": {},
   "outputs": [],
   "source": [
    "query_result_set = sdk.query(sql_statement)\n",
    "\n",
    "records = query_result_set.records\n",
    "\n",
    "if not records:\n",
    "    raise Exception(\"No records found\")"
   ]
  },
  {
   "cell_type": "markdown",
   "metadata": {},
   "source": [
    "Caching"
   ]
  },
  {
   "cell_type": "code",
   "execution_count": null,
   "metadata": {},
   "outputs": [],
   "source": [
    "# Caching Example\n",
    "\n",
    "import time\n",
    "\n",
    "start = time.time()\n",
    "\n",
    "sdk.query(sql_statement + \" --- this is a different comment \", ttl_minutes=1)\n",
    "\n",
    "print(f\"query ran in {time.time() - start} seconds\")"
   ]
  },
  {
   "cell_type": "code",
   "execution_count": null,
   "metadata": {},
   "outputs": [],
   "source": [
    "records[0].keys()"
   ]
  },
  {
   "cell_type": "code",
   "execution_count": null,
   "metadata": {},
   "outputs": [],
   "source": [
    "query_result_set.run_stats.record_count"
   ]
  },
  {
   "cell_type": "markdown",
   "metadata": {},
   "source": [
    "Plot the results"
   ]
  },
  {
   "cell_type": "code",
   "execution_count": null,
   "metadata": {},
   "outputs": [],
   "source": [
    "import pandas as pd\n",
    "import plotly.express as px\n",
    "\n",
    "# Easily create a data frame from the query result set\n",
    "df = pd.DataFrame(records)\n",
    "\n",
    "fig = px.scatter(\n",
    "    df, \n",
    "    x=\"uniq_buyers\", \n",
    "    y=\"uniq_sellers\",\n",
    "\tsize=\"total_vol_usd\", \n",
    "    color=\"total_sale_count\",\n",
    "    hover_name=\"project\", \n",
    "    size_max=60\n",
    ")\n",
    "\n",
    "fig.show()"
   ]
  },
  {
   "cell_type": "markdown",
   "metadata": {},
   "source": [
    "#### Pagination"
   ]
  },
  {
   "cell_type": "code",
   "execution_count": null,
   "metadata": {},
   "outputs": [],
   "source": [
    "# Pagination\n",
    "\n",
    "query_result_set = sdk.query(sql_statement, page_number=20, page_size=10)\n",
    "records = query_result_set.records\n",
    "if not records:\n",
    "    raise Exception(\"no records returned from query\")\n",
    "\n",
    "df = pd.DataFrame(records)\n",
    "\n",
    "display(df)\n",
    "\n",
    "fig = px.scatter(\n",
    "    df, \n",
    "    x=\"uniq_buyers\", \n",
    "    y=\"uniq_sellers\",\n",
    "\tsize=\"total_vol_usd\", \n",
    "    color=\"total_sale_count\",\n",
    "    hover_name=\"project\", \n",
    "    size_max=30\n",
    ")\n",
    "\n",
    "fig.show()\n"
   ]
  }
 ],
 "metadata": {
  "kernelspec": {
   "display_name": "Python 3.10.1 64-bit",
   "language": "python",
   "name": "python3"
  },
  "language_info": {
   "codemirror_mode": {
    "name": "ipython",
    "version": 3
   },
   "file_extension": ".py",
   "mimetype": "text/x-python",
   "name": "python",
   "nbconvert_exporter": "python",
   "pygments_lexer": "ipython3",
   "version": "3.10.1"
  },
  "orig_nbformat": 4,
  "vscode": {
   "interpreter": {
    "hash": "949777d72b0d2535278d3dc13498b2535136f6dfe0678499012e853ee9abcab1"
   }
  }
 },
 "nbformat": 4,
 "nbformat_minor": 2
}

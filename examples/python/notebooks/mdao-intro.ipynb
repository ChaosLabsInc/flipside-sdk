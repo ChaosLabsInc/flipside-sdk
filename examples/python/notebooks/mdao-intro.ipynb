{
 "cells": [
  {
   "cell_type": "markdown",
   "metadata": {},
   "source": [
    "# Intro to ShroomDK: Getting Started\n",
    "\n",
    "<em>install ShroomDK with pip</em><br/>\n",
    "`pip install shroomdk`"
   ]
  },
  {
   "cell_type": "markdown",
   "metadata": {},
   "source": [
    "Import the package"
   ]
  },
  {
   "cell_type": "code",
   "execution_count": 1,
   "metadata": {},
   "outputs": [],
   "source": [
    "from shroomdk import ShroomDK"
   ]
  },
  {
   "cell_type": "markdown",
   "metadata": {},
   "source": [
    "Run your first query<br/>\n",
    "<em>Remember to copy/paste your API Key from https://sdk.flipsidecrypto.xyz below.</em>"
   ]
  },
  {
   "cell_type": "code",
   "execution_count": 2,
   "metadata": {},
   "outputs": [],
   "source": [
    "import os\n",
    "YOUR_API_KEY = os.environ.get(\"SHROOMDK_API_KEY\")\n",
    "\n",
    "# Invoke the ShroomDK class to create an instance of the SDK\n",
    "sdk = ShroomDK(YOUR_API_KEY)\n",
    "\n",
    "# Run a query\n",
    "xMETRIC_contract_address = '0x15848C9672e99be386807b9101f83A16EB017bb5'\n",
    "\n",
    "query_result_set = sdk.query(f\"\"\"\n",
    "    SELECT count(distinct to_address) as recipient_count\n",
    "    FROM polygon.core.fact_token_transfers\n",
    "    WHERE block_timestamp > '2022-07-10T00:00:00'\n",
    "        AND contract_address = lower('{xMETRIC_contract_address}')\n",
    "        AND to_address != lower('0x4b8923746a1D9943bbd408F477572762801efE4d')\n",
    "\"\"\")\n"
   ]
  },
  {
   "cell_type": "markdown",
   "metadata": {},
   "source": [
    "### Query Result Set\n",
    "\n",
    "```python\n",
    "class QueryResultSet(BaseModel):\n",
    "    query_id: Union[str, None] = Field(None, description=\"The server id of the query\")\n",
    "    status: str = Field(False, description=\"The status of the query (`PENDING`, `FINISHED`, `ERROR`)\")\n",
    "    columns: Union[List[str], None] = Field(None, description=\"The names of the columns in the result set\")\n",
    "    column_types: Union[List[str], None] = Field(None, description=\"The type of the columns in the result set\")\n",
    "    rows: Union[List[Any], None] = Field(None, description=\"The results of the query\")\n",
    "    run_stats: Union[QueryRunStats, None] = Field(\n",
    "        None,\n",
    "        description=\"Summary stats on the query run (i.e. the number of rows returned, the elapsed time, etc)\",\n",
    "    )\n",
    "    records: Union[List[Any], None] = Field(None, description=\"The results of the query transformed as an array of objects\")\n",
    "    error: Any\n",
    "\n",
    "```"
   ]
  },
  {
   "cell_type": "code",
   "execution_count": 3,
   "metadata": {},
   "outputs": [
    {
     "name": "stdout",
     "output_type": "stream",
     "text": [
      "{'recipient_count': 425}\n",
      "There are 425 unique recipients of xMETRIC tokens.\n"
     ]
    }
   ],
   "source": [
    "## Explore the result set object\n",
    "\n",
    "records = query_result_set.records\n",
    "\n",
    "print(records[0])\n",
    "\n",
    "print(f\"There are {records[0]['recipient_count']} unique recipients of xMETRIC tokens.\")"
   ]
  },
  {
   "cell_type": "markdown",
   "metadata": {},
   "source": [
    "### xMETRIC Leaderboard\n",
    "Retrieve the balance of every xMETRIC holder"
   ]
  },
  {
   "cell_type": "code",
   "execution_count": 4,
   "metadata": {
    "vscode": {
     "languageId": "sql"
    }
   },
   "outputs": [
    {
     "ename": "SyntaxError",
     "evalue": "invalid syntax. Perhaps you forgot a comma? (3921437849.py, line 2)",
     "output_type": "error",
     "traceback": [
      "\u001b[0;36m  Input \u001b[0;32mIn [4]\u001b[0;36m\u001b[0m\n\u001b[0;31m    SELECT\u001b[0m\n\u001b[0m    ^\u001b[0m\n\u001b[0;31mSyntaxError\u001b[0m\u001b[0;31m:\u001b[0m invalid syntax. Perhaps you forgot a comma?\n"
     ]
    }
   ],
   "source": [
    "WITH sent_tokens AS (\n",
    "  SELECT \n",
    "    to_address as Participant,\n",
    "    sum(raw_amount/pow(10,18)) as xMETRIC\n",
    "  FROM polygon.core.fact_token_transfers\n",
    "  WHERE\n",
    "    block_timestamp::date > '2022-07-10'::date \n",
    "    AND contract_address = lower('0x15848C9672e99be386807b9101f83A16EB017bb5')\n",
    "    AND to_address != lower('0x4b8923746a1D9943bbd408F477572762801efE4d')\n",
    "  GROUP BY 1\n",
    "),\n",
    "burnt_tokens AS (\n",
    "  SELECT\n",
    "    to_address as Participant,\n",
    "    sum(raw_amount/pow(10,18)) as xMETRIC\n",
    "  FROM polygon.core.fact_token_transfers\n",
    "  WHERE\n",
    "    block_timestamp::date > '2022-07-10'::date \n",
    "    AND contract_address = lower('0x15848C9672e99be386807b9101f83A16EB017bb5')\n",
    "    AND to_address = lower('0x0000000000000000000000000000000000000000')\n",
    "  GROUP BY 1\n",
    ")\n",
    "SELECT\n",
    "  sent_tokens.Participant as \"participant_addr\",\n",
    "  coalesce(sent_tokens.xmetric,0) - coalesce(burnt_tokens.xMETRIC,0) as \"balance\"\n",
    "FROM sent_tokens \n",
    "LEFT JOIN burnt_tokens ON sent_tokens.Participant = burnt_tokens.Participant\n",
    "ORDER BY 2 DESC"
   ]
  },
  {
   "cell_type": "code",
   "execution_count": 5,
   "metadata": {},
   "outputs": [
    {
     "name": "stdout",
     "output_type": "stream",
     "text": [
      "{'participant_addr': '0xb300cfaf0e4e3fbfe0c4b056277a526768887944', 'balance': 20380}\n",
      "{'participant_addr': '0x91707502a8dfdc523f7a6f2c218cc9a52777d5ad', 'balance': 13130}\n",
      "{'participant_addr': '0xafb5853ba41ee4d8886ed66793535218bec8f1a9', 'balance': 13050}\n",
      "{'participant_addr': '0xef74618f4937bfe6a8f2b945a9dc18b8072b4e34', 'balance': 12965}\n",
      "{'participant_addr': '0x6781c5841b7b5e61d0c3afe8bd081f02161ad239', 'balance': 12870}\n",
      "{'participant_addr': '0x3ccbebc4dd1fa505d63cb7f2272fac86cfbed7c6', 'balance': 11665}\n",
      "{'participant_addr': '0x80d39e43045cb4e31540b460c4a3352b8ff07b46', 'balance': 11650}\n",
      "{'participant_addr': '0x8f2ab7dbe9671e920b50afe37a4a7c07bd46a784', 'balance': 11315}\n",
      "{'participant_addr': '0x18612addab24b5b5dfeda6425c6b89a2048c36fb', 'balance': 11205}\n",
      "{'participant_addr': '0x132816184dc7d73a09ffae5d29a1b14c59708ad8', 'balance': 9300}\n"
     ]
    }
   ],
   "source": [
    "# Load the sql query from a file\n",
    "leaderboard_sql_query = open(\"./sql/xmetric_leaderboard.sql\", 'r').read()\n",
    "\n",
    "# Run the query with pagination\n",
    "\n",
    "page_number = 1\n",
    "page_size = 10\n",
    "\n",
    "leaderboard_result_set = sdk.query(\n",
    "    leaderboard_sql_query, \n",
    "    page_size=page_size,\n",
    "    page_number=page_number)\n",
    "\n",
    "for record in leaderboard_result_set.records:\n",
    "    print(record)"
   ]
  },
  {
   "cell_type": "markdown",
   "metadata": {},
   "source": [
    "### Plot the xMETRIC LeaderBoard Results"
   ]
  },
  {
   "cell_type": "code",
   "execution_count": 6,
   "metadata": {},
   "outputs": [
    {
     "data": {
      "application/vnd.plotly.v1+json": {
       "config": {
        "plotlyServerURL": "https://plot.ly"
       },
       "data": [
        {
         "alignmentgroup": "True",
         "bingroup": "x",
         "hovertemplate": "balance=%{x}<br>count=%{y}<extra></extra>",
         "legendgroup": "",
         "marker": {
          "color": "#636efa",
          "pattern": {
           "shape": ""
          }
         },
         "name": "",
         "nbinsx": 200,
         "offsetgroup": "",
         "orientation": "v",
         "showlegend": false,
         "type": "histogram",
         "x": [
          20380,
          13130,
          13050,
          12965,
          12870,
          11665,
          11650,
          11315,
          11205,
          9300,
          8900,
          3510,
          3250,
          3060,
          3000,
          2975,
          2750,
          2750,
          2500,
          2380,
          2345,
          2170,
          2165,
          2120,
          2060,
          2000,
          2000,
          2000,
          2000,
          2000,
          2000,
          2000,
          2000,
          2000,
          2000,
          2000,
          2000,
          2000,
          2000,
          2000,
          2000,
          2000,
          2000,
          1750,
          1750,
          1750,
          1750,
          1750,
          1750,
          1720,
          1700,
          1560,
          1520,
          1510,
          1510,
          1500,
          1500,
          1500,
          1500,
          1500,
          1490,
          1390,
          1355,
          1305,
          1265,
          1250,
          1080,
          1080,
          1080,
          1020,
          1020,
          1015,
          1010,
          1010,
          1010,
          1005,
          1000,
          1000,
          1000,
          1000,
          1000,
          1000,
          1000,
          1000,
          1000,
          1000,
          865,
          750,
          750,
          750,
          750,
          750,
          750,
          750,
          750,
          750,
          750,
          750,
          750,
          750,
          750,
          670,
          620,
          615,
          550,
          510,
          510,
          510,
          510,
          510,
          500,
          500,
          500,
          500,
          500,
          500,
          500,
          500,
          500,
          500,
          500,
          500,
          500,
          500,
          500,
          500,
          500,
          500,
          500,
          500,
          500,
          500,
          500,
          500,
          500,
          500,
          500,
          500,
          500,
          500,
          500,
          500,
          375,
          345,
          320,
          300,
          290,
          285,
          275,
          270,
          270,
          260,
          260,
          260,
          260,
          260,
          260,
          260,
          260,
          260,
          260,
          255,
          250,
          250,
          250,
          250,
          250,
          250,
          250,
          250,
          250,
          250,
          250,
          250,
          250,
          250,
          250,
          250,
          250,
          250,
          250,
          250,
          250,
          250,
          250,
          250,
          250,
          250,
          250,
          250,
          250,
          250,
          250,
          250,
          250,
          250,
          250,
          250,
          250,
          250,
          250,
          250,
          250,
          250,
          250,
          250,
          250,
          250,
          250,
          250,
          250,
          250,
          250,
          250,
          250,
          250,
          250,
          250,
          250,
          250,
          250,
          250,
          250,
          250,
          250,
          250,
          250,
          250,
          250,
          250,
          250,
          250,
          235,
          200,
          195,
          190,
          165,
          165,
          150,
          145,
          140,
          140,
          120,
          120,
          115,
          110,
          110,
          105,
          95,
          95,
          80,
          75,
          70,
          70,
          65,
          65,
          65,
          60,
          60,
          60,
          60,
          60,
          55,
          55,
          55,
          55,
          55,
          50,
          50,
          50,
          50,
          50,
          45,
          45,
          35,
          35,
          35,
          30,
          30,
          30,
          25,
          25,
          20,
          20,
          20,
          20,
          20,
          20,
          20,
          20,
          20,
          20,
          20,
          20,
          20,
          20,
          20,
          20,
          20,
          20,
          20,
          20,
          20,
          20,
          20,
          20,
          20,
          20,
          15,
          15,
          15,
          15,
          15,
          15,
          10,
          10,
          10,
          10,
          10,
          10,
          10,
          10,
          10,
          10,
          10,
          10,
          10,
          10,
          10,
          10,
          10,
          10,
          10,
          10,
          10,
          10,
          10,
          10,
          10,
          10,
          10,
          10,
          10,
          10,
          10,
          10,
          10,
          10,
          10,
          10,
          10,
          10,
          10,
          10,
          10,
          10,
          10,
          10,
          10,
          10,
          10,
          10,
          10,
          10,
          10,
          10,
          10,
          10,
          10,
          10,
          10,
          10,
          10,
          10,
          10,
          10,
          10,
          10,
          10,
          10,
          10,
          10,
          10,
          10,
          10,
          10,
          10,
          10,
          10,
          10,
          10,
          10,
          10,
          10,
          10,
          10,
          10,
          10,
          10,
          10,
          10,
          10,
          10,
          10,
          10,
          10,
          10,
          10,
          10,
          10,
          10,
          10,
          10,
          10,
          10,
          10,
          10,
          10,
          5,
          5,
          5,
          5,
          5,
          0,
          0
         ],
         "xaxis": "x",
         "yaxis": "y"
        },
        {
         "alignmentgroup": "True",
         "customdata": [
          [
           "0xb300cfaf0e4e3fbfe0c4b056277a526768887944"
          ],
          [
           "0x91707502a8dfdc523f7a6f2c218cc9a52777d5ad"
          ],
          [
           "0xafb5853ba41ee4d8886ed66793535218bec8f1a9"
          ],
          [
           "0xef74618f4937bfe6a8f2b945a9dc18b8072b4e34"
          ],
          [
           "0x6781c5841b7b5e61d0c3afe8bd081f02161ad239"
          ],
          [
           "0x3ccbebc4dd1fa505d63cb7f2272fac86cfbed7c6"
          ],
          [
           "0x80d39e43045cb4e31540b460c4a3352b8ff07b46"
          ],
          [
           "0x8f2ab7dbe9671e920b50afe37a4a7c07bd46a784"
          ],
          [
           "0x18612addab24b5b5dfeda6425c6b89a2048c36fb"
          ],
          [
           "0x132816184dc7d73a09ffae5d29a1b14c59708ad8"
          ],
          [
           "0x12dc2a0d62e15eb5489e5d7d004636c95ac9c292"
          ],
          [
           "0x8e0a55cd81e7562972c8c002b23f12c7d850d6a8"
          ],
          [
           "0x9df9a3b2894f43be2eec3825dabe55bdf2d9080e"
          ],
          [
           "0xd19c0fa664240eb80e3542755dccfdd3d9e35652"
          ],
          [
           "0x581bef12967f06f2ebfcabb7504fa61f0326cd9a"
          ],
          [
           "0x7af2d9a872cbb1bc19fcbd75a4241776ab63dcca"
          ],
          [
           "0xd6f7a9053573982d3c5706f9577dda8beae0897e"
          ],
          [
           "0x0331c1ce75f315a49849be77b6a37b1959ebb1eb"
          ],
          [
           "0x001ab34712dc2c6b5e17400fb91182e98d6ebfa9"
          ],
          [
           "0xa0f00e59ef57d82449accb05b9512a47b264374b"
          ],
          [
           "0x7c855e1bf411ab5975235bc8c74e032615073044"
          ],
          [
           "0x19f471c40cd9270ceea76cfdeaa85370d78157ee"
          ],
          [
           "0x08290908a251119a1c75bb9c36a7a41e9bf2f1e3"
          ],
          [
           "0xce56393ca6806a3d4e613dfec05fa6588570f2ce"
          ],
          [
           "0x9b4f1929836315a6d4ab6a73a109b918b9cead2b"
          ],
          [
           "0xc36767412e96f139f0c9d2965a8f1459f58bebf1"
          ],
          [
           "0x48ff4d06ceb0d69c958ee7856a2629bb568cffdc"
          ],
          [
           "0xbb7c2f56756750c89fda7ae331754b1ebffeeaa9"
          ],
          [
           "0x3a2de4daa43250b99255363004f7a9a7fd7f927a"
          ],
          [
           "0x00e0a2d0207e43d0943f4b5aa30b0849684ae906"
          ],
          [
           "0x52f58796da5b8d462b4fbe63dc3414d42a9776b9"
          ],
          [
           "0xc93e57664cbcf268013cce699b57cda88f8ab6a6"
          ],
          [
           "0x219ec790bf28a654f99e2815ea17f1896971b3e1"
          ],
          [
           "0xe69731a83942227e45528ff9db9e35bc9e035497"
          ],
          [
           "0xa08ddae991f1bd4334ca73e61eeb4eda22b09053"
          ],
          [
           "0xace4a677110ce667bc451bc737abf5788b1880b6"
          ],
          [
           "0x0e8c3d6b592617469f34c81ba2d086233fccf84b"
          ],
          [
           "0x13e29ac353455c110af6e51d81208bf21fefeda9"
          ],
          [
           "0x7adc92e50cd02ca11bcb2895a0656ac3dfca7637"
          ],
          [
           "0xb2ce8560ca2508e0c1bb872994f7b6fc82f2eab8"
          ],
          [
           "0x0b94111757dd55a68bfe903c450006cf5453a0a5"
          ],
          [
           "0x2d164fa1f7319849fd3dad7ec322aa97047ab0ea"
          ],
          [
           "0xeb2e8016a0e3f44e94d263110f337dafc2c7d66d"
          ],
          [
           "0x35bf6424013886af335136109d662d8529e2ab0f"
          ],
          [
           "0xd525a95a254235939ae53e24e25f0d17c6a57f3a"
          ],
          [
           "0xd6634f05bc79c19cd7027636f3c7c29e853eb844"
          ],
          [
           "0x062995f29c9a1d60d951c229f3d048f8003d2d6f"
          ],
          [
           "0x3dc4401b1ccf916b221cd4041b1b44790328e4bd"
          ],
          [
           "0x164a8379198a8d7155a1f0eab9baa256078d378e"
          ],
          [
           "0x3625eff632eab044489a46014dd168ccb5112240"
          ],
          [
           "0x661e6111844f9e63c9c9f64ae285fbf771b753a7"
          ],
          [
           "0x988682054ca48d89adbd5c027d750a36c86b0493"
          ],
          [
           "0x6590fe693f9058cc570d273a9aaa282483b9727a"
          ],
          [
           "0xa6df87c41d737a2228b4bc591c3fa99462dcab69"
          ],
          [
           "0x5c090d636db202b91ea1f1056e00decbf2f3407e"
          ],
          [
           "0xa41b41bb495c115a829008eb6259b8001dedece2"
          ],
          [
           "0x38312dc77f570885353b99a211df76ab57f4e853"
          ],
          [
           "0x056ee87fe60cc25a041d35ca3786497c9a7d50c0"
          ],
          [
           "0xeb9d856c73a624da354fd3bec616e8cc7ffc56f9"
          ],
          [
           "0xf3dc6ecc980450fd340cf528140ba8c5811f18af"
          ],
          [
           "0xb9f95b60dcda8d8c66898ccf1fe0c186488562fe"
          ],
          [
           "0x021b8d868a589aad0dd1297dce136d31b23bdfe7"
          ],
          [
           "0xef39f5cc98801d0c2ddd6da76ef90d5654c973c5"
          ],
          [
           "0x237b7e3910f21051b386173ae86f98f0971444b6"
          ],
          [
           "0xa6eeaab3941d5ff9fdae787a42509b536cb0d7cb"
          ],
          [
           "0x81dfaf2b017aaf637456ed274a96fcaeb3a4c9d4"
          ],
          [
           "0xbb9c684597b2cdf8c61b7f99b20c846cad382b2e"
          ],
          [
           "0x525a78abf7eb4a13f721176cff3ffaaf4c747e4c"
          ],
          [
           "0x48768f1c19f3c017d3dc296cc4d32132f14bb437"
          ],
          [
           "0xdee1941840ea7cfa9813306f90359c52ac821ade"
          ],
          [
           "0x27dadcac8613de8d27519bff92a3e0fa7fd16871"
          ],
          [
           "0xabf28f8d9adfb2255f4a059e37d3bce9104969db"
          ],
          [
           "0x39fe1beef05ded01d35c2b97e3fb6939d4f0aee3"
          ],
          [
           "0xa5efd2dd28104d42780f09b17cb2e86ca88914a4"
          ],
          [
           "0x267c4f42ec0d443a3268fa4afda0aa37c25a205f"
          ],
          [
           "0xa7ed58695383f1504afe2c0d4d4a3d39a911e4cc"
          ],
          [
           "0xaf44a749d66519e415e36bf3bd663cf5401b9d4e"
          ],
          [
           "0x553651a3c5fb03edb5a185b1155306fb8b5a59f7"
          ],
          [
           "0xe406938368062cc09f00c65278d209de5ac6dc4c"
          ],
          [
           "0x998671b91878c3fcfed42a8c40db2b88bb6a7aa7"
          ],
          [
           "0x3ca9df4c6abd98066e7da1429e114a5fcb3b72e7"
          ],
          [
           "0xb05f20637ad9328d1aec730fddb98e6ca195d627"
          ],
          [
           "0x8f1ba4fc7833aaeb15f4f3a2e21c568b83e49a1f"
          ],
          [
           "0x72811728a833c5e812dd7d79dc7fec17e192fca7"
          ],
          [
           "0x9f710bc2b44e0c44dccf99997a610daf8532b0db"
          ],
          [
           "0x143221f535a1c061c501860f459dbe984f37af29"
          ],
          [
           "0x694acf4dfb7601f92a0d2a41cdec5bf7726c7294"
          ],
          [
           "0x1f5151cb84dd8d207a78371ff30dec3361a2cda3"
          ],
          [
           "0x577aa432f09e33ecd3b656574970cb9593b214d5"
          ],
          [
           "0xb10dbeb51ae5507beb1285da85543795012006f7"
          ],
          [
           "0xa290e57ec5f9b173ab8469421666ca198f72a6c2"
          ],
          [
           "0x60ce6c4903b0ede8ff3520a0c6baedee7b7224bd"
          ],
          [
           "0x1b491d59846cb605a24a4690df631946e52a2d0e"
          ],
          [
           "0xa2037c2bcba33196115fc1bfaf76bdf9102bb43d"
          ],
          [
           "0x6eb1c39b3fab5e056b7e9ad0287de8e209fe0536"
          ],
          [
           "0x546a5cb5c0add53efbc60000644aa70204b20576"
          ],
          [
           "0xea0bce1a4439304052dad4114af345da40160812"
          ],
          [
           "0x6b9fa64c410866ad531281208d548b940c8e99f7"
          ],
          [
           "0x9101ffd7e76caf8c9f6b41aecbf1927e1a16ff62"
          ],
          [
           "0xf9067331dcb593c9d4532b6ae30aec4af2ee415d"
          ],
          [
           "0x7f577360e5405e102225aee780e422e0373378d1"
          ],
          [
           "0x5ecc25d1f658af69d9b59fcaedb2d9ee38254036"
          ],
          [
           "0x54e22105c9fd054393351386668f283b971446c1"
          ],
          [
           "0x364f7fd945b8c76c3c77d6ac253f1fea3b65e00d"
          ],
          [
           "0x57260a45c6c2564a27215f2b0a8319e112770791"
          ],
          [
           "0x17a21fd5e32a060c74b88a2dce8de121e437fbf2"
          ],
          [
           "0x7e24ec8f3f13676a02582745019438c898edd806"
          ],
          [
           "0x6d67721ff8b7f66f154b369023598c0121a99c76"
          ],
          [
           "0x66258457350213863edf4f59c8fc7bcd5cdfae53"
          ],
          [
           "0x1bc570e46082586072782ead90b9c344bbda903f"
          ],
          [
           "0x799f3c962f7c07f97788de0d4174979cfbe1cf69"
          ],
          [
           "0x29a8a95a6aa1912fb9051b2581c8fb6356a18a60"
          ],
          [
           "0x45af9cb6df0958ee803b85a8545927698542cd47"
          ],
          [
           "0xf3af75a53173cefc87b0d2998f528035d87d4a8f"
          ],
          [
           "0x79721a785056ef69b266094c6efb0548584f2d31"
          ],
          [
           "0x12518c1ad7a16b65390ab1ca63726ad786d02846"
          ],
          [
           "0xabc98db6794d43970147ddc0d33475780a23e3d0"
          ],
          [
           "0x1d5fbd591c13613be10fcb6ce07fce413af4b1a2"
          ],
          [
           "0x2a535af5a82bc9c6a3369229446d599577e3e478"
          ],
          [
           "0x0dc7a2832ed0823837907f8ad7736ccadd14062f"
          ],
          [
           "0x987c15a4ddc68c9481e2edd380fea583ca549c12"
          ],
          [
           "0x7a629dc97e1a1a303a563111252c435bf18dde64"
          ],
          [
           "0x7d73547dc7151370761112bd002b761496a91080"
          ],
          [
           "0xd85aecede377628220ad0dba373642c2479a0fb1"
          ],
          [
           "0x9d70c7fc7e403b88ef65ea7581dd209314fce6df"
          ],
          [
           "0x79e3b45f7d022c91bbd81c135489e1bfb08d6b15"
          ],
          [
           "0x5b4b89502d2eea5c5383167dfd447ed531f7410f"
          ],
          [
           "0xfb29a45dc480e9b17f9bb2d1eb175ad152afb1ee"
          ],
          [
           "0xd0a43318362a25ca9506a76a99f631cac6a3bf5a"
          ],
          [
           "0x45e9105e61a2455af444f503aa416c11d3456796"
          ],
          [
           "0x97f258321d39c3cecbfc1c33eb6d7c45904b5784"
          ],
          [
           "0x0febd109ab4b68414c9af7b911f8922d3d668985"
          ],
          [
           "0x00a622dbbf94a59dcfa9e00aa83c4694c9b05bb5"
          ],
          [
           "0x855a4c8b223ac5cf1b586e66856713c6b3e404dc"
          ],
          [
           "0x62ccaafffd2e3b57b9fc4a3fd71ecf1adedc5a76"
          ],
          [
           "0x4d549eb3c83178444522a05b2f379a0f3e6d4636"
          ],
          [
           "0x3944f96d3387a08bfddced57e398e111ab690e32"
          ],
          [
           "0x0f9ccd6ec984c1614f3eb5fb6efaf6fc6005216b"
          ],
          [
           "0x59d084cc9fd72fb7947b32625bae732a0e8c11e2"
          ],
          [
           "0xd78485a59e9763869bf1ec62c4520695bc826edc"
          ],
          [
           "0xe2cbad3bec5449bbbde75e52ca7053c5477f0d2a"
          ],
          [
           "0xd372b7816a14abb6505beb843ae0adbe3d8a61a4"
          ],
          [
           "0x06ed7e490144d4b74bd1c9f33f69da402603540e"
          ],
          [
           "0xd5b130e81c5e2539d86f297e599a5adc127ca853"
          ],
          [
           "0x844dbfc4cc9ed5354f19f8c11b06402cef728f9f"
          ],
          [
           "0xdd2751646526caa10be35de596b3c4523d849476"
          ],
          [
           "0x9ec949ee9494622d194311b704d730525d3693e5"
          ],
          [
           "0xb62b18ee15a250f7561216c0052f1130b9235e9b"
          ],
          [
           "0x67f91ca1dbbd2bceaefdfe1dd6a7492f9220ff91"
          ],
          [
           "0x1e8db1b988d230fd93ba2e2386a28c98d3c72542"
          ],
          [
           "0x51062af21e68007edfa5d4f8c19b59def76abf4c"
          ],
          [
           "0xdeabd45a04b3f8f64e9eb9c9de5e690facc4aa78"
          ],
          [
           "0xe06a6a7099ce016d14d27d74fe89796c01e64225"
          ],
          [
           "0xb810cb63e08caf742dd88f2e1203b0b43a22e569"
          ],
          [
           "0xdff9d1cff3c37b84704eed4465a83e6c453c35f6"
          ],
          [
           "0xa741296a1e9ddc3d6cf431b73c6225cfb5f6693a"
          ],
          [
           "0xa7b49a003132817fd3073d980895e1cc70699a99"
          ],
          [
           "0x229774945909450aea9ae676250012968ea5c93c"
          ],
          [
           "0x53174f744b54d40f8460da7d5d7903c7b421ab36"
          ],
          [
           "0xf85696ba87ab644d142076b231bc9bd46e7fe117"
          ],
          [
           "0x7152509d360afa4efd398f894c67d3a22185d108"
          ],
          [
           "0x0b6707909d4066605f71d26fda1e8500ba055203"
          ],
          [
           "0x02c1275b95c5614ead9fd609eb0c1b5dcd02685b"
          ],
          [
           "0xab4fc9dd5020848b84fa363707e210db7b74964b"
          ],
          [
           "0xca5d099b060f1308cd2579ca735e06825dd5bf1e"
          ],
          [
           "0x1b248a213f900e337fbe95783057dc58ad539c30"
          ],
          [
           "0x34a7ca6c9a41bb17cc5e0a325924f70e5a8f30aa"
          ],
          [
           "0x03ff2a4ff12b558eb46b92e24420a065b3951765"
          ],
          [
           "0x43dc2db600889bd930c992d1fc86221180b79a65"
          ],
          [
           "0x381439621b918883e8b2438a8811686a9a202d8f"
          ],
          [
           "0x705064cc968023e0ad703c73a6cf3f75f0d04d4f"
          ],
          [
           "0x610f609ba7116f2eadd5e0852552765da0e71e9b"
          ],
          [
           "0xf6bc7cc74de5dcb76f20440a51ea0fff1b037645"
          ],
          [
           "0x3c97d81aabd502db1a8d29f5aea617547322b987"
          ],
          [
           "0x70f341d5e96878780cf492e8236e3653601e03d8"
          ],
          [
           "0xe985c9b7151e89c058849f25f4a8646d895c002f"
          ],
          [
           "0x9ebcf668d700cff592a6ded3e174079ea3177b4a"
          ],
          [
           "0x5850f23b980f63d4741cf7b5f94918a42d401724"
          ],
          [
           "0xd7022181e57473f7e7d3242c14a42cd04abf4f7d"
          ],
          [
           "0xe86e34caa607ea9d0246b0859ab27a15763449de"
          ],
          [
           "0x916878c3b418d77cf3659fd76fe62f4da89bb99b"
          ],
          [
           "0xd45536f11169d3e0f316cf1c2bd95424acfbacc5"
          ],
          [
           "0x3722a8b1e2674fbba7081c84e39a5ce738b8159d"
          ],
          [
           "0xc153e4181fa3b6e98cecaec467a654578c81acc2"
          ],
          [
           "0xf7853177edee11a26d21849672d76755d588a011"
          ],
          [
           "0xf417aa4970725237585c4c51aa3074c5e9d88f4e"
          ],
          [
           "0x467357fc24fdd5429f96ad84b43a2f9f6947e9a1"
          ],
          [
           "0xcf74159f61971bad84c847fff37dc239e8f1bf88"
          ],
          [
           "0x385bc18660f000e00a932759a6b92950bfeb1142"
          ],
          [
           "0x9091ac191064a023cce580235b9c6ef45822b929"
          ],
          [
           "0x691cac70bcd635ddfbbc2a9aad3df5f454477676"
          ],
          [
           "0x4131f5122798c8477cb87086cd296f7adddc8209"
          ],
          [
           "0x0354a62588157bba0cea5c8f2b77d809061e3609"
          ],
          [
           "0x1512d549af3ea121caa93b4fa0482701d4812be9"
          ],
          [
           "0x5507963e2afd622bab95844f724e04ceb5789e49"
          ],
          [
           "0x29c248709bcda70ef7d451577266f49a9d66fc91"
          ],
          [
           "0x6d19403f6be2602decfdf36d3e7c0f389373261d"
          ],
          [
           "0x0f180d7c177ae0a35c3103c84d9e0ea7b312fbab"
          ],
          [
           "0x8980f9074c3b891ac38a9d81ef405393ab9faf54"
          ],
          [
           "0xdaccb43066325d3c3d1033e35245262b3c7b3320"
          ],
          [
           "0xe0eb93c82ae4763abb4a8ccc9b35066d62a58f4b"
          ],
          [
           "0xc56c5c02721c0a6722d39d71670043a79db3898c"
          ],
          [
           "0x45c56e138881fd3ff46359ba1826d5fc6fccaedc"
          ],
          [
           "0xedce9ce16b5d4e466b40bc97c8b7019f0d2b8679"
          ],
          [
           "0x91d09e76ff2e122b2270104417ed9286f9f33688"
          ],
          [
           "0xae35c9d782c6ec3fa9e6ca82db5cca9ad53d8a47"
          ],
          [
           "0x02030a27dab7ffbdebb7c8e822d10ced92072fec"
          ],
          [
           "0xc3c480ba8f27a3cd8d3a63ff307e2a1a48a96a11"
          ],
          [
           "0xa8b477004e1c5a654dd92de91c9b4dfd8336234c"
          ],
          [
           "0x893618dbf74d037bc1da3de9f19c5e5738c40fb3"
          ],
          [
           "0x52711f09ac6d334b89f3293ec5e63f0fb7e4fcba"
          ],
          [
           "0x9d49cfe50bf195f6823fdbf264182ca436672a52"
          ],
          [
           "0x4ca06842f81b6bea15ddd62522bc7dac2fe64d9e"
          ],
          [
           "0x7e55f5546222dbe89193c1cf062835a2648d1e96"
          ],
          [
           "0x3ec9cdcd00a515961ee5b6f2fdc94ce414a0d33e"
          ],
          [
           "0xf470fd93ab1b095973922804e2d2c47b60024cf5"
          ],
          [
           "0x88d494bc8e19b508bef7e2674ab66540dc010ca3"
          ],
          [
           "0x115fea583e3dbe87ed86db7c46b43932df2fe032"
          ],
          [
           "0x4f7e059914cde12cd278f99667f8a8140c2efedb"
          ],
          [
           "0x55961526396586edeaa4b98c2021411f02699f92"
          ],
          [
           "0x09283c83e84ffe8f8b94d1db3c12f9c6da893a04"
          ],
          [
           "0x7609047ab9086f0b86147dfc7653f63e50f848d4"
          ],
          [
           "0x84b9be717e1901975de6ff2f95d5e5bc9f109c49"
          ],
          [
           "0x7b0483982a87268255e94b3595bce640346d3254"
          ],
          [
           "0xc47f2266b6076b79c0a6a9906c6592b34c03c914"
          ],
          [
           "0x2582ebd2571409cc2700bd12731cb19f17972ae8"
          ],
          [
           "0xdaccffc38044e8ae1ebcc7eefb2c9c319c95cd08"
          ],
          [
           "0xf62668efee982e7c5e75412b0e9ec856e102e6fa"
          ],
          [
           "0x4398c008d725e68ae3abdb9ae496ff03f6d3f64b"
          ],
          [
           "0x0985949bd60d4ff68043d461e8989bef8e9b3237"
          ],
          [
           "0x9466158750c6d89a7dc75a8345c5d1263b90307a"
          ],
          [
           "0x85ca6a8dbfb04239a1d5fae2a7129f62a5292990"
          ],
          [
           "0x9fcc472387c0504ce7e040d1a48e052fdecea7a6"
          ],
          [
           "0x3ae02ed67853b0615fc5b14709b6e368ed5737e2"
          ],
          [
           "0xb5d903a991ca161b35543b158bf75413b0e54f31"
          ],
          [
           "0xec9b783267e470be3e0f3ddc6ecb27fd56e943c7"
          ],
          [
           "0x5f22f93f6283452b9bebcd44aa6c81c15cc6b620"
          ],
          [
           "0xb0c47feee8cf3d40a7d74e71f0eb187d58677d94"
          ],
          [
           "0x0ba43bae4613e03492e4c17af3b014b6c3202b9d"
          ],
          [
           "0x3f32218c7d6b86b7c846449cff01dafae1f9ef38"
          ],
          [
           "0x2ea344a2281c7c021df9b3592ab94302e427e9ec"
          ],
          [
           "0x20ce5d8b88bc15467d582903538542faf507fdbe"
          ],
          [
           "0xa1007e2cad904fd7c848b0fd437dfa2b94179f0b"
          ],
          [
           "0xabd823eef2a3f9ed693cae4ef20965232b28eb6a"
          ],
          [
           "0x0430605323465e26dc21fbaaa9a1a4be6ae9d496"
          ],
          [
           "0x94d463c1cfa656a2108dcc76af179f5744b6147e"
          ],
          [
           "0x839551ad5cd3a17061eb11a3fbb6141293eb92a2"
          ],
          [
           "0x94520e2f86afd790263715f727d0d35f533f2a36"
          ],
          [
           "0xadf34dcf407f15653aff0d1ce2d09612949bcca3"
          ],
          [
           "0x34744dd0fb927366228a2eaee0d142620ff26077"
          ],
          [
           "0x565d380416a2889b817c6eb493f6deef029212aa"
          ],
          [
           "0xdc1b6af03ce40dad670fc575e0ac21c452365866"
          ],
          [
           "0x5ce59db20e8b0bdcae2c20775e61602f51fe4749"
          ],
          [
           "0xdddd6e19c5b7d34ae7c70c66def45a0cd2ddc248"
          ],
          [
           "0x4a834226a801db67b1b02c2333e5b7023a48220b"
          ],
          [
           "0x34a903636158a5e5929a6cb87171c7e0dd2ba6b9"
          ],
          [
           "0x9ce153cfa091d1cb364a147577c1dd626486fcf8"
          ],
          [
           "0xb9f6c43faae4b3bc0e00c4918c17b86fc9f84c66"
          ],
          [
           "0xcd34718e8abf8d984e7d5e97149eae19409c11f9"
          ],
          [
           "0x82668634464bbc87dc3163a1b0ab332e6951f587"
          ],
          [
           "0xeea08af58474ac2b6945bd2b7aafb790e28a86ad"
          ],
          [
           "0x04ae8c108743167c7457073ba8c1571fd5d56325"
          ],
          [
           "0x90bf6943afccff7ac04deabc7231ebc9ee2f66f2"
          ],
          [
           "0x873d6214903310fbb59eca3513cf82afae8c1622"
          ],
          [
           "0xf2f44bb039c85d6e104455db2c80f97415fdcfb8"
          ],
          [
           "0x5dba066755d7678f233f1421c744d8342465bb33"
          ],
          [
           "0x56fcca6db2780b1acca2cdd875882e9d16e8c401"
          ],
          [
           "0x1c1f481edd77c395f6e10b389ff8d4a010d4a2a4"
          ],
          [
           "0xb1b09d276f14c16601f43521b949e9b14308d908"
          ],
          [
           "0x71a561d2ed1fef868b9154f5b9ed049ac7876361"
          ],
          [
           "0x64c531a126bf94a8fe753834d486677668bbef33"
          ],
          [
           "0x23253559632ed2c8dfb6b6e10e85d03c871c7d68"
          ],
          [
           "0x312005302c73cfa23d5d8569799ae21402fb7cbb"
          ],
          [
           "0x63e884eea4d1a500f9903b7701d371b0cbae590f"
          ],
          [
           "0xf5396a578b7c9c108b013eb5448e235652ec9230"
          ],
          [
           "0x4d857cb2d42fcac500ac915c18a35720e4efbe70"
          ],
          [
           "0x874a6e7f5e9537c4f934fa0d6cea906e24fc287d"
          ],
          [
           "0xf0c3a29adcaa7a7286e22b532bca372d2616e45d"
          ],
          [
           "0x300283c69244460a449732cefc2e221df7272812"
          ],
          [
           "0x6c7c3806b3cae601b1d99c017e4592753ba8d41e"
          ],
          [
           "0x5970c498244ce30248711497b7886feca0077423"
          ],
          [
           "0xd911c34f2acf2fb1a31a015f310d8c5ad430fbd1"
          ],
          [
           "0x69dcc8cca3f45ea1d29f96bba0934e2b4b1c2d0e"
          ],
          [
           "0xbd59ac1b4259741edad0d0ba056062c1295b8eb9"
          ],
          [
           "0x8ba3ad7a810c2e639d680c9b1024a96412247fdf"
          ],
          [
           "0x4100a2bd83fe308421bf65b4b1b5dad0559b5de7"
          ],
          [
           "0x33e75c070d0c9b27489a5d7e9c1381a141395311"
          ],
          [
           "0x5f4ac4f44173c2544c28e291ebd869592f0c2ca2"
          ],
          [
           "0xbf9c0baf3c9156792f1e404410a7dfd6adfd0852"
          ],
          [
           "0xcf66c0e3ac810d8d4c94165e262f02c88494b642"
          ],
          [
           "0x0786a24145fef2c60a38237e8671332899ce7c1f"
          ],
          [
           "0xa2381898adbe159a7b7539fb017ede50d71e90bd"
          ],
          [
           "0xfdb1ebe50eb71ff9c8ac17f0a1e493ad8878e1ed"
          ],
          [
           "0x6550af4236898ff4c6cd5d812e97484d4924199a"
          ],
          [
           "0xb67a03ef8ba4852b18be1078cd090e8ed3217a50"
          ],
          [
           "0x11d85393510f6ac21d64aa90a7b1c850b05a097c"
          ],
          [
           "0xc47903ab2cf85c45097d4f300f19c13e1e409168"
          ],
          [
           "0x0ae0b8e6a111fb2764b2e0fe35869f83f9434c6d"
          ],
          [
           "0x6a0682bc37ea0d32fa6f0f2d349620c31b12cf60"
          ],
          [
           "0x7f63301e634a8da0c8d7d4cc8ab3beae149dad01"
          ],
          [
           "0xc6e7841641baa09ea8f33d505c4f142ed1374338"
          ],
          [
           "0x9cc99aa3dd50dc2566731afdc036d86da6bc4105"
          ],
          [
           "0xdad5e5eef55ebbae8f65cadaf2a366ed49112f1d"
          ],
          [
           "0x6e442155b6d2921d2ea69a54edae5205ed70b74c"
          ],
          [
           "0x88f48ea63e2b67a37376deecce1bdf8d5bc3790e"
          ],
          [
           "0xca25cce0228a1e28c261e7020a850c0c3000d9ee"
          ],
          [
           "0x2cca8a1c5bd642dce7427f860808569c1f40d8e9"
          ],
          [
           "0x7087f549be45e657c5e44c5be11b67231e22612a"
          ],
          [
           "0xbd87a9ac4a3caf72e7ec922d85bedfbca7cd4cc7"
          ],
          [
           "0x41a0aec042cf3b4ced8f21a018921a66c72eb9aa"
          ],
          [
           "0x6ea012a3249ccc35d020dd4124b739956966699e"
          ],
          [
           "0xa6864c6b3f418d26ac231b09488f5a6c821f7147"
          ],
          [
           "0x2ef81c2c563113d0bb488d6528adc42d40d41fbf"
          ],
          [
           "0x9d0f06cb88f0d6a90f7daa62b247aa5d08e1dca6"
          ],
          [
           "0x5fc022833a109bf99dd15adfeaf9e0fbea9efe7a"
          ],
          [
           "0xd0c5a28fbc2fd0c5a9439e3903f085620236d18d"
          ],
          [
           "0xed02d9fb6fdea941a88dbec88099388da2a96f7b"
          ],
          [
           "0x1e38c2d920f47d832c76b4b49d29a9964bf51f3a"
          ],
          [
           "0x4c1a316de360e08817eb88dd31a0e7305005fb65"
          ],
          [
           "0x08e192e364dc3771ec2fc5bf6843077443327ca0"
          ],
          [
           "0xe6148f7361893c46b5d805e104879568e717c2a3"
          ],
          [
           "0x657d07095b082bb71ebd93f549f407a97f49094f"
          ],
          [
           "0xe118e627bc3d0e46203a9fb18bc12ee1ff78ee6b"
          ],
          [
           "0x8ca5718b166e15fc428b61a17a4bf551788c9f06"
          ],
          [
           "0x2abc381364a470593cacce7ddcef3fcf648125e4"
          ],
          [
           "0xdf89795fd1341a37609d02b3b7c8b0757c733dd8"
          ],
          [
           "0x7ea9b8ba0d889ba42458f657ed27244ad593dfe7"
          ],
          [
           "0x5050da75b7b881f1e234d57bc3b625d68af65451"
          ],
          [
           "0xfcdbef56e3351880e216f59f0cabec95d31de7cc"
          ],
          [
           "0xdbb9d923b91cef0e6bbe7fc7c61c6cea77a03a85"
          ],
          [
           "0x9b17ac932288ee20537281694afe50e4c3917482"
          ],
          [
           "0xacf1222153e2b795cc35c57c32edd8b8eae86279"
          ],
          [
           "0xf1268b5eae72617ddb2cfcaa82d379155b675dfd"
          ],
          [
           "0x884c95d6e9222d9e503bbfefad376321a85436ca"
          ],
          [
           "0xfa16a8abf4bf7c474e9e8e01a8aa0e28011455c1"
          ],
          [
           "0x1122a796fcb9d6f76926bccc840ae858e788cd6d"
          ],
          [
           "0xfc0a7f6ad0e65940436322c30eb5521202f165bb"
          ],
          [
           "0x18a2c2bf1ddc48cc4605b27515ffe8eddf604827"
          ],
          [
           "0x4fd4ce351bc03817329c3a0594dc9c48885cbec0"
          ],
          [
           "0xfc644208e5291441eb79d84ef9960559dfbfdad5"
          ],
          [
           "0x1500cd01da7da4a59da52705f6f768aee5c753dc"
          ],
          [
           "0x163282f109b86167a7017a9db2c995a9240dff38"
          ],
          [
           "0x29faeb62f4e9e1456c2feed5c6f27b13fae91dae"
          ],
          [
           "0xbb96d92c7f873259a1e25e0103b1b54562178eea"
          ],
          [
           "0xbcdda0d49da660b6de91fb27cecbd166a83676eb"
          ],
          [
           "0x28719f45dbcfbfcb0a203b254e8530c168094d20"
          ],
          [
           "0x303467f7f37077b3e18fd8caf6f8af95316651ce"
          ],
          [
           "0x19fde20744903805ba05e1522980ffff3545c1ec"
          ],
          [
           "0xe9aa76f2f3f0322725d018bcecd29269f0d2f20b"
          ],
          [
           "0xe4ff601adf71ae95b4c696a406abd6f7ce672942"
          ],
          [
           "0x6070702bda6a5119221f84e38457ae9b76704f99"
          ],
          [
           "0x5b2aad701dab7f5d7dfd82a4cf31e336188e8331"
          ],
          [
           "0xb34a7fe9387cdabdcc73a610d8b5f5bdf92ff2f9"
          ],
          [
           "0xc00fc2775cce5b61ffd6ec1eec0de0119f25dc87"
          ],
          [
           "0xba55a4ad8b09c532fd5f330768a5c415e5cd689b"
          ],
          [
           "0xa770c55b9f6949c3230c858e470916bdfbde4239"
          ],
          [
           "0xf881d6647d8cb6f950fef6a49d896fe34ca9ee52"
          ],
          [
           "0x72169187b9f08ceca3b68896001caa732669b68c"
          ],
          [
           "0x0a0f389083f34905e4fbace03abb1f7a0669ee03"
          ],
          [
           "0x4f4e1ee6aec9ebda033624d8d3dc3d2b5d5b3cd9"
          ],
          [
           "0xed41aa4abb256b13f02b87cd66a39ddc7a6c9a22"
          ],
          [
           "0xd7bdcfe1c36f15925a470e284ed946fd665907d1"
          ],
          [
           "0xf1070b8c9c95e6088f8efbff14a58994cc24df72"
          ],
          [
           "0xac6c57e2926a30a1b491b5a9000f07b7483895ea"
          ],
          [
           "0x21126ac61093260d2f2ff826395885dcde37ffa2"
          ],
          [
           "0xf7dd5e140ddc843dea9857cd2b6bb7d16d5a6094"
          ],
          [
           "0x73a6ca6ecf3ff2c0fce4db608e5f908be861cd85"
          ],
          [
           "0xb6b81b1eff27aae2a081eaea029e3cb218b6ee42"
          ],
          [
           "0xc2bee5829312089918e539dd2b6df51536eec984"
          ],
          [
           "0xcaddf492e266efa0507d3632f2c604e942ac1f80"
          ],
          [
           "0x54bc0b774feac29bba39fb6b5f88d39cb8ca6698"
          ],
          [
           "0x183bdb344a07ee3d27f07ac4799a56e4a2fe5439"
          ],
          [
           "0xe06a48bcab95c1bfdd5be87d2459222d2eca7c46"
          ],
          [
           "0xcfab1066c172c8f36dbb866d5402c07271f33c45"
          ],
          [
           "0x23b6d8e09cb33b1550de19ac25cc3f41ae4603bb"
          ],
          [
           "0x6e9197fe278d265ec25aa2120bdd3fdce3025def"
          ],
          [
           "0x6d3f1b18cd155ba5aab0f3467e3cbe9c4a339656"
          ],
          [
           "0x32f1406809e2c6967e41ac44c8bde46ab597de3c"
          ],
          [
           "0x93d2ff9023482a23598ade6d8bf04400a61c2136"
          ],
          [
           "0x1ff344ee1481aa90a58c3b9d0e5be7c6a7ceb7bb"
          ],
          [
           "0xe7c3b11f94ff1a1531baa540e397a5dace423645"
          ],
          [
           "0xb139e2f39919412f8c681868639f1c6689f19d9b"
          ],
          [
           "0xb92867aff20b0870a723250d5d27520d6b2c8629"
          ],
          [
           "0x05c0b7835cb119eedc2d8ea71d7f46d5b0874403"
          ],
          [
           "0x500cf9f39d4b202a6bb81c5ace06cd0fe86e0fb7"
          ],
          [
           "0x8edb046b1dcaa1222d4779eb814c15f2f358f6b7"
          ],
          [
           "0xe6786ebcd46e5035ee0c91b52a370183aa6aa20c"
          ],
          [
           "0x9b1ca96d28f61f7af0df7f7980f0961b2f0f545f"
          ],
          [
           "0x1edfb0da4820ec5c6ab34b12e3c786e715f6b8a6"
          ],
          [
           "0x7fbc69c7a4e14a5b85973f4dcec3572584726a3a"
          ],
          [
           "0x3dcd44e97ff9fd6c449ed479aee9bbdaee963ba3"
          ],
          [
           "0x53da4d2c5ac6e18fe5568ab305436ec2ed93ccc1"
          ],
          [
           "0x43b4fec74deab75a6c77da2bba1bc17bb7badb03"
          ],
          [
           "0xfea2c43993e0a1e7c86fce6e68ad142a45f003ce"
          ],
          [
           "0x92701e331a53dae63c999375d188aaff94f4ac8f"
          ],
          [
           "0x9014a73651b85fafe606142e72e202e02ea2bc54"
          ],
          [
           "0x4c710b38199f589dd769d36ed52b6d0170cb83ee"
          ],
          [
           "0x22b921ca1d8d120061ad52a15106f164b5cf7591"
          ],
          [
           "0xf3d51e7eaca297213d47e4a675cd0183a5800995"
          ],
          [
           "0xb804d0a16870e2ff870935e336733bc7fbe65beb"
          ],
          [
           "0xc15073a2f754caefecde4c6e58e5a3100dff9a43"
          ],
          [
           "0x3d3e8491bad5cc2311863388c811d66fc713e66f"
          ],
          [
           "0xaaa6c647098af3837fbbea3a393dfd49c46baf10"
          ],
          [
           "0xa8a2aa7200b360e9b76fafe60950a587449a0ed4"
          ],
          [
           "0xb8303eb6d0a96a7ce36b3c0ba811570a8e461282"
          ],
          [
           "0x7947b4935e00f62ffa56e1246c84af2f431b1b97"
          ],
          [
           "0x358b995ff303bd1081089fbf58b667100d0afe3e"
          ],
          [
           "0x9c8b6eb4ef93eb06246ffcf7f6696d28318b77a8"
          ],
          [
           "0x124ac4be876bb5826cb3c9600b13611ae63eb427"
          ],
          [
           "0x79ab78fe4b4b166da1b868527e587bc9b8b6a3ae"
          ],
          [
           "0x65392485b8d869e59b5b2a3cf7de815ed16939aa"
          ],
          [
           "0xdbd3a0e458d30b85f83c4719f848361618e3d9b0"
          ],
          [
           "0xad900d0a5c5c213c6efeadfff67019b81c2344e2"
          ],
          [
           "0x59e4b9fc7d48cccddbc8d12f55c8712f6f05c6cd"
          ],
          [
           "0x567f382fd818e4495eef5f397a064a370b3a53a4"
          ],
          [
           "0x99098a6688b31f2d0a321b60422e1eaad0b9928a"
          ],
          [
           "0x7934a1b8b774c7a804224359cf6ce680e4b91ea2"
          ],
          [
           "0x06a859fff68b5fdf8269edddb0037279b58aeb05"
          ],
          [
           "0x91d708962d843011d580163894553d4fe7415890"
          ],
          [
           "0x67cc85ab0047d194ff9f7649cf7d73ee7a487aa6"
          ],
          [
           "0x86874bf84f0d27dcfc6c4c34ab99aad8ced8d892"
          ],
          [
           "0x76a09ab56aa645e04e41d86d9d6d77d1484a0489"
          ],
          [
           "0xbb9a318606800966a9c55b0d912a9ca25fc5e4aa"
          ],
          [
           "0x0000000000000000000000000000000000000000"
          ],
          [
           "0x034836e10e4af328d30f223db31dd689f1bb5d89"
          ]
         ],
         "hovertemplate": "balance=%{x}<br>participant_addr=%{customdata[0]}<extra></extra>",
         "legendgroup": "",
         "marker": {
          "color": "#636efa"
         },
         "name": "",
         "notched": true,
         "offsetgroup": "",
         "showlegend": false,
         "type": "box",
         "x": [
          20380,
          13130,
          13050,
          12965,
          12870,
          11665,
          11650,
          11315,
          11205,
          9300,
          8900,
          3510,
          3250,
          3060,
          3000,
          2975,
          2750,
          2750,
          2500,
          2380,
          2345,
          2170,
          2165,
          2120,
          2060,
          2000,
          2000,
          2000,
          2000,
          2000,
          2000,
          2000,
          2000,
          2000,
          2000,
          2000,
          2000,
          2000,
          2000,
          2000,
          2000,
          2000,
          2000,
          1750,
          1750,
          1750,
          1750,
          1750,
          1750,
          1720,
          1700,
          1560,
          1520,
          1510,
          1510,
          1500,
          1500,
          1500,
          1500,
          1500,
          1490,
          1390,
          1355,
          1305,
          1265,
          1250,
          1080,
          1080,
          1080,
          1020,
          1020,
          1015,
          1010,
          1010,
          1010,
          1005,
          1000,
          1000,
          1000,
          1000,
          1000,
          1000,
          1000,
          1000,
          1000,
          1000,
          865,
          750,
          750,
          750,
          750,
          750,
          750,
          750,
          750,
          750,
          750,
          750,
          750,
          750,
          750,
          670,
          620,
          615,
          550,
          510,
          510,
          510,
          510,
          510,
          500,
          500,
          500,
          500,
          500,
          500,
          500,
          500,
          500,
          500,
          500,
          500,
          500,
          500,
          500,
          500,
          500,
          500,
          500,
          500,
          500,
          500,
          500,
          500,
          500,
          500,
          500,
          500,
          500,
          500,
          500,
          500,
          375,
          345,
          320,
          300,
          290,
          285,
          275,
          270,
          270,
          260,
          260,
          260,
          260,
          260,
          260,
          260,
          260,
          260,
          260,
          255,
          250,
          250,
          250,
          250,
          250,
          250,
          250,
          250,
          250,
          250,
          250,
          250,
          250,
          250,
          250,
          250,
          250,
          250,
          250,
          250,
          250,
          250,
          250,
          250,
          250,
          250,
          250,
          250,
          250,
          250,
          250,
          250,
          250,
          250,
          250,
          250,
          250,
          250,
          250,
          250,
          250,
          250,
          250,
          250,
          250,
          250,
          250,
          250,
          250,
          250,
          250,
          250,
          250,
          250,
          250,
          250,
          250,
          250,
          250,
          250,
          250,
          250,
          250,
          250,
          250,
          250,
          250,
          250,
          250,
          250,
          235,
          200,
          195,
          190,
          165,
          165,
          150,
          145,
          140,
          140,
          120,
          120,
          115,
          110,
          110,
          105,
          95,
          95,
          80,
          75,
          70,
          70,
          65,
          65,
          65,
          60,
          60,
          60,
          60,
          60,
          55,
          55,
          55,
          55,
          55,
          50,
          50,
          50,
          50,
          50,
          45,
          45,
          35,
          35,
          35,
          30,
          30,
          30,
          25,
          25,
          20,
          20,
          20,
          20,
          20,
          20,
          20,
          20,
          20,
          20,
          20,
          20,
          20,
          20,
          20,
          20,
          20,
          20,
          20,
          20,
          20,
          20,
          20,
          20,
          20,
          20,
          15,
          15,
          15,
          15,
          15,
          15,
          10,
          10,
          10,
          10,
          10,
          10,
          10,
          10,
          10,
          10,
          10,
          10,
          10,
          10,
          10,
          10,
          10,
          10,
          10,
          10,
          10,
          10,
          10,
          10,
          10,
          10,
          10,
          10,
          10,
          10,
          10,
          10,
          10,
          10,
          10,
          10,
          10,
          10,
          10,
          10,
          10,
          10,
          10,
          10,
          10,
          10,
          10,
          10,
          10,
          10,
          10,
          10,
          10,
          10,
          10,
          10,
          10,
          10,
          10,
          10,
          10,
          10,
          10,
          10,
          10,
          10,
          10,
          10,
          10,
          10,
          10,
          10,
          10,
          10,
          10,
          10,
          10,
          10,
          10,
          10,
          10,
          10,
          10,
          10,
          10,
          10,
          10,
          10,
          10,
          10,
          10,
          10,
          10,
          10,
          10,
          10,
          10,
          10,
          10,
          10,
          10,
          10,
          10,
          10,
          5,
          5,
          5,
          5,
          5,
          0,
          0
         ],
         "xaxis": "x2",
         "yaxis": "y2"
        }
       ],
       "layout": {
        "barmode": "relative",
        "legend": {
         "tracegroupgap": 0
        },
        "margin": {
         "t": 60
        },
        "template": {
         "data": {
          "bar": [
           {
            "error_x": {
             "color": "#2a3f5f"
            },
            "error_y": {
             "color": "#2a3f5f"
            },
            "marker": {
             "line": {
              "color": "#E5ECF6",
              "width": 0.5
             },
             "pattern": {
              "fillmode": "overlay",
              "size": 10,
              "solidity": 0.2
             }
            },
            "type": "bar"
           }
          ],
          "barpolar": [
           {
            "marker": {
             "line": {
              "color": "#E5ECF6",
              "width": 0.5
             },
             "pattern": {
              "fillmode": "overlay",
              "size": 10,
              "solidity": 0.2
             }
            },
            "type": "barpolar"
           }
          ],
          "carpet": [
           {
            "aaxis": {
             "endlinecolor": "#2a3f5f",
             "gridcolor": "white",
             "linecolor": "white",
             "minorgridcolor": "white",
             "startlinecolor": "#2a3f5f"
            },
            "baxis": {
             "endlinecolor": "#2a3f5f",
             "gridcolor": "white",
             "linecolor": "white",
             "minorgridcolor": "white",
             "startlinecolor": "#2a3f5f"
            },
            "type": "carpet"
           }
          ],
          "choropleth": [
           {
            "colorbar": {
             "outlinewidth": 0,
             "ticks": ""
            },
            "type": "choropleth"
           }
          ],
          "contour": [
           {
            "colorbar": {
             "outlinewidth": 0,
             "ticks": ""
            },
            "colorscale": [
             [
              0,
              "#0d0887"
             ],
             [
              0.1111111111111111,
              "#46039f"
             ],
             [
              0.2222222222222222,
              "#7201a8"
             ],
             [
              0.3333333333333333,
              "#9c179e"
             ],
             [
              0.4444444444444444,
              "#bd3786"
             ],
             [
              0.5555555555555556,
              "#d8576b"
             ],
             [
              0.6666666666666666,
              "#ed7953"
             ],
             [
              0.7777777777777778,
              "#fb9f3a"
             ],
             [
              0.8888888888888888,
              "#fdca26"
             ],
             [
              1,
              "#f0f921"
             ]
            ],
            "type": "contour"
           }
          ],
          "contourcarpet": [
           {
            "colorbar": {
             "outlinewidth": 0,
             "ticks": ""
            },
            "type": "contourcarpet"
           }
          ],
          "heatmap": [
           {
            "colorbar": {
             "outlinewidth": 0,
             "ticks": ""
            },
            "colorscale": [
             [
              0,
              "#0d0887"
             ],
             [
              0.1111111111111111,
              "#46039f"
             ],
             [
              0.2222222222222222,
              "#7201a8"
             ],
             [
              0.3333333333333333,
              "#9c179e"
             ],
             [
              0.4444444444444444,
              "#bd3786"
             ],
             [
              0.5555555555555556,
              "#d8576b"
             ],
             [
              0.6666666666666666,
              "#ed7953"
             ],
             [
              0.7777777777777778,
              "#fb9f3a"
             ],
             [
              0.8888888888888888,
              "#fdca26"
             ],
             [
              1,
              "#f0f921"
             ]
            ],
            "type": "heatmap"
           }
          ],
          "heatmapgl": [
           {
            "colorbar": {
             "outlinewidth": 0,
             "ticks": ""
            },
            "colorscale": [
             [
              0,
              "#0d0887"
             ],
             [
              0.1111111111111111,
              "#46039f"
             ],
             [
              0.2222222222222222,
              "#7201a8"
             ],
             [
              0.3333333333333333,
              "#9c179e"
             ],
             [
              0.4444444444444444,
              "#bd3786"
             ],
             [
              0.5555555555555556,
              "#d8576b"
             ],
             [
              0.6666666666666666,
              "#ed7953"
             ],
             [
              0.7777777777777778,
              "#fb9f3a"
             ],
             [
              0.8888888888888888,
              "#fdca26"
             ],
             [
              1,
              "#f0f921"
             ]
            ],
            "type": "heatmapgl"
           }
          ],
          "histogram": [
           {
            "marker": {
             "pattern": {
              "fillmode": "overlay",
              "size": 10,
              "solidity": 0.2
             }
            },
            "type": "histogram"
           }
          ],
          "histogram2d": [
           {
            "colorbar": {
             "outlinewidth": 0,
             "ticks": ""
            },
            "colorscale": [
             [
              0,
              "#0d0887"
             ],
             [
              0.1111111111111111,
              "#46039f"
             ],
             [
              0.2222222222222222,
              "#7201a8"
             ],
             [
              0.3333333333333333,
              "#9c179e"
             ],
             [
              0.4444444444444444,
              "#bd3786"
             ],
             [
              0.5555555555555556,
              "#d8576b"
             ],
             [
              0.6666666666666666,
              "#ed7953"
             ],
             [
              0.7777777777777778,
              "#fb9f3a"
             ],
             [
              0.8888888888888888,
              "#fdca26"
             ],
             [
              1,
              "#f0f921"
             ]
            ],
            "type": "histogram2d"
           }
          ],
          "histogram2dcontour": [
           {
            "colorbar": {
             "outlinewidth": 0,
             "ticks": ""
            },
            "colorscale": [
             [
              0,
              "#0d0887"
             ],
             [
              0.1111111111111111,
              "#46039f"
             ],
             [
              0.2222222222222222,
              "#7201a8"
             ],
             [
              0.3333333333333333,
              "#9c179e"
             ],
             [
              0.4444444444444444,
              "#bd3786"
             ],
             [
              0.5555555555555556,
              "#d8576b"
             ],
             [
              0.6666666666666666,
              "#ed7953"
             ],
             [
              0.7777777777777778,
              "#fb9f3a"
             ],
             [
              0.8888888888888888,
              "#fdca26"
             ],
             [
              1,
              "#f0f921"
             ]
            ],
            "type": "histogram2dcontour"
           }
          ],
          "mesh3d": [
           {
            "colorbar": {
             "outlinewidth": 0,
             "ticks": ""
            },
            "type": "mesh3d"
           }
          ],
          "parcoords": [
           {
            "line": {
             "colorbar": {
              "outlinewidth": 0,
              "ticks": ""
             }
            },
            "type": "parcoords"
           }
          ],
          "pie": [
           {
            "automargin": true,
            "type": "pie"
           }
          ],
          "scatter": [
           {
            "fillpattern": {
             "fillmode": "overlay",
             "size": 10,
             "solidity": 0.2
            },
            "type": "scatter"
           }
          ],
          "scatter3d": [
           {
            "line": {
             "colorbar": {
              "outlinewidth": 0,
              "ticks": ""
             }
            },
            "marker": {
             "colorbar": {
              "outlinewidth": 0,
              "ticks": ""
             }
            },
            "type": "scatter3d"
           }
          ],
          "scattercarpet": [
           {
            "marker": {
             "colorbar": {
              "outlinewidth": 0,
              "ticks": ""
             }
            },
            "type": "scattercarpet"
           }
          ],
          "scattergeo": [
           {
            "marker": {
             "colorbar": {
              "outlinewidth": 0,
              "ticks": ""
             }
            },
            "type": "scattergeo"
           }
          ],
          "scattergl": [
           {
            "marker": {
             "colorbar": {
              "outlinewidth": 0,
              "ticks": ""
             }
            },
            "type": "scattergl"
           }
          ],
          "scattermapbox": [
           {
            "marker": {
             "colorbar": {
              "outlinewidth": 0,
              "ticks": ""
             }
            },
            "type": "scattermapbox"
           }
          ],
          "scatterpolar": [
           {
            "marker": {
             "colorbar": {
              "outlinewidth": 0,
              "ticks": ""
             }
            },
            "type": "scatterpolar"
           }
          ],
          "scatterpolargl": [
           {
            "marker": {
             "colorbar": {
              "outlinewidth": 0,
              "ticks": ""
             }
            },
            "type": "scatterpolargl"
           }
          ],
          "scatterternary": [
           {
            "marker": {
             "colorbar": {
              "outlinewidth": 0,
              "ticks": ""
             }
            },
            "type": "scatterternary"
           }
          ],
          "surface": [
           {
            "colorbar": {
             "outlinewidth": 0,
             "ticks": ""
            },
            "colorscale": [
             [
              0,
              "#0d0887"
             ],
             [
              0.1111111111111111,
              "#46039f"
             ],
             [
              0.2222222222222222,
              "#7201a8"
             ],
             [
              0.3333333333333333,
              "#9c179e"
             ],
             [
              0.4444444444444444,
              "#bd3786"
             ],
             [
              0.5555555555555556,
              "#d8576b"
             ],
             [
              0.6666666666666666,
              "#ed7953"
             ],
             [
              0.7777777777777778,
              "#fb9f3a"
             ],
             [
              0.8888888888888888,
              "#fdca26"
             ],
             [
              1,
              "#f0f921"
             ]
            ],
            "type": "surface"
           }
          ],
          "table": [
           {
            "cells": {
             "fill": {
              "color": "#EBF0F8"
             },
             "line": {
              "color": "white"
             }
            },
            "header": {
             "fill": {
              "color": "#C8D4E3"
             },
             "line": {
              "color": "white"
             }
            },
            "type": "table"
           }
          ]
         },
         "layout": {
          "annotationdefaults": {
           "arrowcolor": "#2a3f5f",
           "arrowhead": 0,
           "arrowwidth": 1
          },
          "autotypenumbers": "strict",
          "coloraxis": {
           "colorbar": {
            "outlinewidth": 0,
            "ticks": ""
           }
          },
          "colorscale": {
           "diverging": [
            [
             0,
             "#8e0152"
            ],
            [
             0.1,
             "#c51b7d"
            ],
            [
             0.2,
             "#de77ae"
            ],
            [
             0.3,
             "#f1b6da"
            ],
            [
             0.4,
             "#fde0ef"
            ],
            [
             0.5,
             "#f7f7f7"
            ],
            [
             0.6,
             "#e6f5d0"
            ],
            [
             0.7,
             "#b8e186"
            ],
            [
             0.8,
             "#7fbc41"
            ],
            [
             0.9,
             "#4d9221"
            ],
            [
             1,
             "#276419"
            ]
           ],
           "sequential": [
            [
             0,
             "#0d0887"
            ],
            [
             0.1111111111111111,
             "#46039f"
            ],
            [
             0.2222222222222222,
             "#7201a8"
            ],
            [
             0.3333333333333333,
             "#9c179e"
            ],
            [
             0.4444444444444444,
             "#bd3786"
            ],
            [
             0.5555555555555556,
             "#d8576b"
            ],
            [
             0.6666666666666666,
             "#ed7953"
            ],
            [
             0.7777777777777778,
             "#fb9f3a"
            ],
            [
             0.8888888888888888,
             "#fdca26"
            ],
            [
             1,
             "#f0f921"
            ]
           ],
           "sequentialminus": [
            [
             0,
             "#0d0887"
            ],
            [
             0.1111111111111111,
             "#46039f"
            ],
            [
             0.2222222222222222,
             "#7201a8"
            ],
            [
             0.3333333333333333,
             "#9c179e"
            ],
            [
             0.4444444444444444,
             "#bd3786"
            ],
            [
             0.5555555555555556,
             "#d8576b"
            ],
            [
             0.6666666666666666,
             "#ed7953"
            ],
            [
             0.7777777777777778,
             "#fb9f3a"
            ],
            [
             0.8888888888888888,
             "#fdca26"
            ],
            [
             1,
             "#f0f921"
            ]
           ]
          },
          "colorway": [
           "#636efa",
           "#EF553B",
           "#00cc96",
           "#ab63fa",
           "#FFA15A",
           "#19d3f3",
           "#FF6692",
           "#B6E880",
           "#FF97FF",
           "#FECB52"
          ],
          "font": {
           "color": "#2a3f5f"
          },
          "geo": {
           "bgcolor": "white",
           "lakecolor": "white",
           "landcolor": "#E5ECF6",
           "showlakes": true,
           "showland": true,
           "subunitcolor": "white"
          },
          "hoverlabel": {
           "align": "left"
          },
          "hovermode": "closest",
          "mapbox": {
           "style": "light"
          },
          "paper_bgcolor": "white",
          "plot_bgcolor": "#E5ECF6",
          "polar": {
           "angularaxis": {
            "gridcolor": "white",
            "linecolor": "white",
            "ticks": ""
           },
           "bgcolor": "#E5ECF6",
           "radialaxis": {
            "gridcolor": "white",
            "linecolor": "white",
            "ticks": ""
           }
          },
          "scene": {
           "xaxis": {
            "backgroundcolor": "#E5ECF6",
            "gridcolor": "white",
            "gridwidth": 2,
            "linecolor": "white",
            "showbackground": true,
            "ticks": "",
            "zerolinecolor": "white"
           },
           "yaxis": {
            "backgroundcolor": "#E5ECF6",
            "gridcolor": "white",
            "gridwidth": 2,
            "linecolor": "white",
            "showbackground": true,
            "ticks": "",
            "zerolinecolor": "white"
           },
           "zaxis": {
            "backgroundcolor": "#E5ECF6",
            "gridcolor": "white",
            "gridwidth": 2,
            "linecolor": "white",
            "showbackground": true,
            "ticks": "",
            "zerolinecolor": "white"
           }
          },
          "shapedefaults": {
           "line": {
            "color": "#2a3f5f"
           }
          },
          "ternary": {
           "aaxis": {
            "gridcolor": "white",
            "linecolor": "white",
            "ticks": ""
           },
           "baxis": {
            "gridcolor": "white",
            "linecolor": "white",
            "ticks": ""
           },
           "bgcolor": "#E5ECF6",
           "caxis": {
            "gridcolor": "white",
            "linecolor": "white",
            "ticks": ""
           }
          },
          "title": {
           "x": 0.05
          },
          "xaxis": {
           "automargin": true,
           "gridcolor": "white",
           "linecolor": "white",
           "ticks": "",
           "title": {
            "standoff": 15
           },
           "zerolinecolor": "white",
           "zerolinewidth": 2
          },
          "yaxis": {
           "automargin": true,
           "gridcolor": "white",
           "linecolor": "white",
           "ticks": "",
           "title": {
            "standoff": 15
           },
           "zerolinecolor": "white",
           "zerolinewidth": 2
          }
         }
        },
        "xaxis": {
         "anchor": "y",
         "domain": [
          0,
          1
         ],
         "title": {
          "text": "balance"
         }
        },
        "xaxis2": {
         "anchor": "y2",
         "domain": [
          0,
          1
         ],
         "matches": "x",
         "showgrid": true,
         "showticklabels": false
        },
        "yaxis": {
         "anchor": "x",
         "domain": [
          0,
          0.8316
         ],
         "title": {
          "text": "count"
         }
        },
        "yaxis2": {
         "anchor": "x2",
         "domain": [
          0.8416,
          1
         ],
         "matches": "y2",
         "showgrid": false,
         "showline": false,
         "showticklabels": false,
         "ticks": ""
        }
       }
      }
     },
     "metadata": {},
     "output_type": "display_data"
    }
   ],
   "source": [
    "full_leaderboard_result_set = sdk.query(leaderboard_sql_query)\n",
    "\n",
    "import pandas as pd\n",
    "import plotly.express as px\n",
    "\n",
    "df = pd.DataFrame(full_leaderboard_result_set.records)\n",
    "\n",
    "fig = px.histogram(df, x=\"balance\", marginal=\"box\", hover_data=df.columns, nbins=200)\n",
    "\n",
    "fig.show()"
   ]
  },
  {
   "cell_type": "markdown",
   "metadata": {},
   "source": [
    "### Cross Chain xMETRIC User Exploration"
   ]
  },
  {
   "cell_type": "code",
   "execution_count": 7,
   "metadata": {
    "vscode": {
     "languageId": "sql"
    }
   },
   "outputs": [
    {
     "ename": "SyntaxError",
     "evalue": "invalid syntax. Perhaps you forgot a comma? (1206069928.py, line 2)",
     "output_type": "error",
     "traceback": [
      "\u001b[0;36m  Input \u001b[0;32mIn [7]\u001b[0;36m\u001b[0m\n\u001b[0;31m    SELECT to_address as holder_addr\u001b[0m\n\u001b[0m    ^\u001b[0m\n\u001b[0;31mSyntaxError\u001b[0m\u001b[0;31m:\u001b[0m invalid syntax. Perhaps you forgot a comma?\n"
     ]
    }
   ],
   "source": [
    "WITH xmetric_holders AS (\n",
    "    SELECT to_address as holder_addr\n",
    "    FROM polygon.core.fact_token_transfers\n",
    "    WHERE block_timestamp > '2022-07-10T00:00:00'\n",
    "        AND contract_address = lower('0x15848C9672e99be386807b9101f83A16EB017bb5')\n",
    "        AND to_address != lower('0x4b8923746a1D9943bbd408F477572762801efE4d')\n",
    ")\n",
    "SELECT\n",
    "    token_name,\n",
    "    symbol,\n",
    "    count(distinct user_address) as num_holders,\n",
    "    median(usd_value_now) as median_usd_holdings\n",
    "FROM ethereum.core.ez_current_balances\n",
    "INNER JOIN xmetric_holders \n",
    "    ON ethereum.core.ez_current_balances.user_address = xmetric_holders.holder_addr\n",
    "WHERE ethereum.core.ez_current_balances.usd_value_now > 0\n",
    "GROUP BY 1, 2\n",
    "ORDER BY 3 DESC\n",
    "LIMIT 25"
   ]
  },
  {
   "cell_type": "code",
   "execution_count": 8,
   "metadata": {},
   "outputs": [],
   "source": [
    "# Load the sql query from a file\n",
    "xmetric_eth_holdings_sql_query = open(\"./sql/xmetric_eth_holdings.sql\", 'r').read()\n",
    "\n",
    "# Run the query\n",
    "xmetric_eth_holdings_results = sdk.query(xmetric_eth_holdings_sql_query)\n"
   ]
  },
  {
   "cell_type": "code",
   "execution_count": 9,
   "metadata": {},
   "outputs": [
    {
     "data": {
      "application/vnd.plotly.v1+json": {
       "config": {
        "plotlyServerURL": "https://plot.ly"
       },
       "data": [
        {
         "alignmentgroup": "True",
         "customdata": [
          [
           "ETH",
           219.4
          ],
          [
           "USDC",
           374.95
          ],
          [
           "AAVE",
           112.95
          ],
          [
           "SUSHI",
           74.06
          ],
          [
           "WETH",
           36.64
          ],
          [
           "UNI",
           66.75
          ],
          [
           "DAI",
           1.19
          ],
          [
           "USDT",
           43.72
          ],
          [
           "HOP",
           140.13
          ],
          [
           "stETH",
           103.795
          ],
          [
           "OHM",
           88.75
          ],
          [
           "DIVER",
           1.19
          ],
          [
           "GAL",
           73.49
          ],
          [
           "LDO",
           50.08
          ],
          [
           "RBN",
           21.2
          ],
          [
           "1INCH",
           0.12
          ],
          [
           "cETH",
           20.26
          ],
          [
           "CRV",
           15.1
          ],
          [
           null,
           0.33
          ],
          [
           "ENS",
           381.68
          ],
          [
           "PSP",
           171.9
          ],
          [
           "SOS",
           0.6
          ],
          [
           "oSQTH",
           2.45
          ],
          [
           "MATIC",
           3.51
          ],
          [
           "FWB",
           17.215
          ]
         ],
         "hovertemplate": "token_name=%{x}<br>num_holders=%{y}<br>symbol=%{customdata[0]}<br>median_usd_holdings=%{customdata[1]}<extra></extra>",
         "legendgroup": "",
         "marker": {
          "color": "#636efa",
          "pattern": {
           "shape": ""
          }
         },
         "name": "",
         "offsetgroup": "",
         "orientation": "v",
         "showlegend": false,
         "textposition": "auto",
         "type": "bar",
         "x": [
          "Native Ether",
          "USD Coin",
          "Aave Token",
          "SushiToken",
          "Wrapped Ether",
          "Uniswap",
          "Dai Stablecoin",
          "Tether USD",
          "Hop",
          "Liquid staked Ether 2.0",
          "Olympus",
          "DivergenceProtocol",
          "Project Galaxy",
          "Lido DAO Token",
          "Ribbon",
          "1INCH Token",
          "Compound Ether",
          "Curve DAO Token",
          null,
          "Ethereum Name Service",
          "ParaSwap",
          "SOS",
          "Opyn Squeeth",
          "Matic Token",
          "Friends With Benefits Pro"
         ],
         "xaxis": "x",
         "y": [
          361,
          163,
          119,
          45,
          30,
          26,
          20,
          18,
          16,
          16,
          13,
          13,
          13,
          12,
          10,
          10,
          10,
          9,
          9,
          9,
          9,
          9,
          8,
          7,
          7
         ],
         "yaxis": "y"
        }
       ],
       "layout": {
        "barmode": "relative",
        "legend": {
         "tracegroupgap": 0
        },
        "margin": {
         "t": 60
        },
        "template": {
         "data": {
          "bar": [
           {
            "error_x": {
             "color": "#2a3f5f"
            },
            "error_y": {
             "color": "#2a3f5f"
            },
            "marker": {
             "line": {
              "color": "#E5ECF6",
              "width": 0.5
             },
             "pattern": {
              "fillmode": "overlay",
              "size": 10,
              "solidity": 0.2
             }
            },
            "type": "bar"
           }
          ],
          "barpolar": [
           {
            "marker": {
             "line": {
              "color": "#E5ECF6",
              "width": 0.5
             },
             "pattern": {
              "fillmode": "overlay",
              "size": 10,
              "solidity": 0.2
             }
            },
            "type": "barpolar"
           }
          ],
          "carpet": [
           {
            "aaxis": {
             "endlinecolor": "#2a3f5f",
             "gridcolor": "white",
             "linecolor": "white",
             "minorgridcolor": "white",
             "startlinecolor": "#2a3f5f"
            },
            "baxis": {
             "endlinecolor": "#2a3f5f",
             "gridcolor": "white",
             "linecolor": "white",
             "minorgridcolor": "white",
             "startlinecolor": "#2a3f5f"
            },
            "type": "carpet"
           }
          ],
          "choropleth": [
           {
            "colorbar": {
             "outlinewidth": 0,
             "ticks": ""
            },
            "type": "choropleth"
           }
          ],
          "contour": [
           {
            "colorbar": {
             "outlinewidth": 0,
             "ticks": ""
            },
            "colorscale": [
             [
              0,
              "#0d0887"
             ],
             [
              0.1111111111111111,
              "#46039f"
             ],
             [
              0.2222222222222222,
              "#7201a8"
             ],
             [
              0.3333333333333333,
              "#9c179e"
             ],
             [
              0.4444444444444444,
              "#bd3786"
             ],
             [
              0.5555555555555556,
              "#d8576b"
             ],
             [
              0.6666666666666666,
              "#ed7953"
             ],
             [
              0.7777777777777778,
              "#fb9f3a"
             ],
             [
              0.8888888888888888,
              "#fdca26"
             ],
             [
              1,
              "#f0f921"
             ]
            ],
            "type": "contour"
           }
          ],
          "contourcarpet": [
           {
            "colorbar": {
             "outlinewidth": 0,
             "ticks": ""
            },
            "type": "contourcarpet"
           }
          ],
          "heatmap": [
           {
            "colorbar": {
             "outlinewidth": 0,
             "ticks": ""
            },
            "colorscale": [
             [
              0,
              "#0d0887"
             ],
             [
              0.1111111111111111,
              "#46039f"
             ],
             [
              0.2222222222222222,
              "#7201a8"
             ],
             [
              0.3333333333333333,
              "#9c179e"
             ],
             [
              0.4444444444444444,
              "#bd3786"
             ],
             [
              0.5555555555555556,
              "#d8576b"
             ],
             [
              0.6666666666666666,
              "#ed7953"
             ],
             [
              0.7777777777777778,
              "#fb9f3a"
             ],
             [
              0.8888888888888888,
              "#fdca26"
             ],
             [
              1,
              "#f0f921"
             ]
            ],
            "type": "heatmap"
           }
          ],
          "heatmapgl": [
           {
            "colorbar": {
             "outlinewidth": 0,
             "ticks": ""
            },
            "colorscale": [
             [
              0,
              "#0d0887"
             ],
             [
              0.1111111111111111,
              "#46039f"
             ],
             [
              0.2222222222222222,
              "#7201a8"
             ],
             [
              0.3333333333333333,
              "#9c179e"
             ],
             [
              0.4444444444444444,
              "#bd3786"
             ],
             [
              0.5555555555555556,
              "#d8576b"
             ],
             [
              0.6666666666666666,
              "#ed7953"
             ],
             [
              0.7777777777777778,
              "#fb9f3a"
             ],
             [
              0.8888888888888888,
              "#fdca26"
             ],
             [
              1,
              "#f0f921"
             ]
            ],
            "type": "heatmapgl"
           }
          ],
          "histogram": [
           {
            "marker": {
             "pattern": {
              "fillmode": "overlay",
              "size": 10,
              "solidity": 0.2
             }
            },
            "type": "histogram"
           }
          ],
          "histogram2d": [
           {
            "colorbar": {
             "outlinewidth": 0,
             "ticks": ""
            },
            "colorscale": [
             [
              0,
              "#0d0887"
             ],
             [
              0.1111111111111111,
              "#46039f"
             ],
             [
              0.2222222222222222,
              "#7201a8"
             ],
             [
              0.3333333333333333,
              "#9c179e"
             ],
             [
              0.4444444444444444,
              "#bd3786"
             ],
             [
              0.5555555555555556,
              "#d8576b"
             ],
             [
              0.6666666666666666,
              "#ed7953"
             ],
             [
              0.7777777777777778,
              "#fb9f3a"
             ],
             [
              0.8888888888888888,
              "#fdca26"
             ],
             [
              1,
              "#f0f921"
             ]
            ],
            "type": "histogram2d"
           }
          ],
          "histogram2dcontour": [
           {
            "colorbar": {
             "outlinewidth": 0,
             "ticks": ""
            },
            "colorscale": [
             [
              0,
              "#0d0887"
             ],
             [
              0.1111111111111111,
              "#46039f"
             ],
             [
              0.2222222222222222,
              "#7201a8"
             ],
             [
              0.3333333333333333,
              "#9c179e"
             ],
             [
              0.4444444444444444,
              "#bd3786"
             ],
             [
              0.5555555555555556,
              "#d8576b"
             ],
             [
              0.6666666666666666,
              "#ed7953"
             ],
             [
              0.7777777777777778,
              "#fb9f3a"
             ],
             [
              0.8888888888888888,
              "#fdca26"
             ],
             [
              1,
              "#f0f921"
             ]
            ],
            "type": "histogram2dcontour"
           }
          ],
          "mesh3d": [
           {
            "colorbar": {
             "outlinewidth": 0,
             "ticks": ""
            },
            "type": "mesh3d"
           }
          ],
          "parcoords": [
           {
            "line": {
             "colorbar": {
              "outlinewidth": 0,
              "ticks": ""
             }
            },
            "type": "parcoords"
           }
          ],
          "pie": [
           {
            "automargin": true,
            "type": "pie"
           }
          ],
          "scatter": [
           {
            "fillpattern": {
             "fillmode": "overlay",
             "size": 10,
             "solidity": 0.2
            },
            "type": "scatter"
           }
          ],
          "scatter3d": [
           {
            "line": {
             "colorbar": {
              "outlinewidth": 0,
              "ticks": ""
             }
            },
            "marker": {
             "colorbar": {
              "outlinewidth": 0,
              "ticks": ""
             }
            },
            "type": "scatter3d"
           }
          ],
          "scattercarpet": [
           {
            "marker": {
             "colorbar": {
              "outlinewidth": 0,
              "ticks": ""
             }
            },
            "type": "scattercarpet"
           }
          ],
          "scattergeo": [
           {
            "marker": {
             "colorbar": {
              "outlinewidth": 0,
              "ticks": ""
             }
            },
            "type": "scattergeo"
           }
          ],
          "scattergl": [
           {
            "marker": {
             "colorbar": {
              "outlinewidth": 0,
              "ticks": ""
             }
            },
            "type": "scattergl"
           }
          ],
          "scattermapbox": [
           {
            "marker": {
             "colorbar": {
              "outlinewidth": 0,
              "ticks": ""
             }
            },
            "type": "scattermapbox"
           }
          ],
          "scatterpolar": [
           {
            "marker": {
             "colorbar": {
              "outlinewidth": 0,
              "ticks": ""
             }
            },
            "type": "scatterpolar"
           }
          ],
          "scatterpolargl": [
           {
            "marker": {
             "colorbar": {
              "outlinewidth": 0,
              "ticks": ""
             }
            },
            "type": "scatterpolargl"
           }
          ],
          "scatterternary": [
           {
            "marker": {
             "colorbar": {
              "outlinewidth": 0,
              "ticks": ""
             }
            },
            "type": "scatterternary"
           }
          ],
          "surface": [
           {
            "colorbar": {
             "outlinewidth": 0,
             "ticks": ""
            },
            "colorscale": [
             [
              0,
              "#0d0887"
             ],
             [
              0.1111111111111111,
              "#46039f"
             ],
             [
              0.2222222222222222,
              "#7201a8"
             ],
             [
              0.3333333333333333,
              "#9c179e"
             ],
             [
              0.4444444444444444,
              "#bd3786"
             ],
             [
              0.5555555555555556,
              "#d8576b"
             ],
             [
              0.6666666666666666,
              "#ed7953"
             ],
             [
              0.7777777777777778,
              "#fb9f3a"
             ],
             [
              0.8888888888888888,
              "#fdca26"
             ],
             [
              1,
              "#f0f921"
             ]
            ],
            "type": "surface"
           }
          ],
          "table": [
           {
            "cells": {
             "fill": {
              "color": "#EBF0F8"
             },
             "line": {
              "color": "white"
             }
            },
            "header": {
             "fill": {
              "color": "#C8D4E3"
             },
             "line": {
              "color": "white"
             }
            },
            "type": "table"
           }
          ]
         },
         "layout": {
          "annotationdefaults": {
           "arrowcolor": "#2a3f5f",
           "arrowhead": 0,
           "arrowwidth": 1
          },
          "autotypenumbers": "strict",
          "coloraxis": {
           "colorbar": {
            "outlinewidth": 0,
            "ticks": ""
           }
          },
          "colorscale": {
           "diverging": [
            [
             0,
             "#8e0152"
            ],
            [
             0.1,
             "#c51b7d"
            ],
            [
             0.2,
             "#de77ae"
            ],
            [
             0.3,
             "#f1b6da"
            ],
            [
             0.4,
             "#fde0ef"
            ],
            [
             0.5,
             "#f7f7f7"
            ],
            [
             0.6,
             "#e6f5d0"
            ],
            [
             0.7,
             "#b8e186"
            ],
            [
             0.8,
             "#7fbc41"
            ],
            [
             0.9,
             "#4d9221"
            ],
            [
             1,
             "#276419"
            ]
           ],
           "sequential": [
            [
             0,
             "#0d0887"
            ],
            [
             0.1111111111111111,
             "#46039f"
            ],
            [
             0.2222222222222222,
             "#7201a8"
            ],
            [
             0.3333333333333333,
             "#9c179e"
            ],
            [
             0.4444444444444444,
             "#bd3786"
            ],
            [
             0.5555555555555556,
             "#d8576b"
            ],
            [
             0.6666666666666666,
             "#ed7953"
            ],
            [
             0.7777777777777778,
             "#fb9f3a"
            ],
            [
             0.8888888888888888,
             "#fdca26"
            ],
            [
             1,
             "#f0f921"
            ]
           ],
           "sequentialminus": [
            [
             0,
             "#0d0887"
            ],
            [
             0.1111111111111111,
             "#46039f"
            ],
            [
             0.2222222222222222,
             "#7201a8"
            ],
            [
             0.3333333333333333,
             "#9c179e"
            ],
            [
             0.4444444444444444,
             "#bd3786"
            ],
            [
             0.5555555555555556,
             "#d8576b"
            ],
            [
             0.6666666666666666,
             "#ed7953"
            ],
            [
             0.7777777777777778,
             "#fb9f3a"
            ],
            [
             0.8888888888888888,
             "#fdca26"
            ],
            [
             1,
             "#f0f921"
            ]
           ]
          },
          "colorway": [
           "#636efa",
           "#EF553B",
           "#00cc96",
           "#ab63fa",
           "#FFA15A",
           "#19d3f3",
           "#FF6692",
           "#B6E880",
           "#FF97FF",
           "#FECB52"
          ],
          "font": {
           "color": "#2a3f5f"
          },
          "geo": {
           "bgcolor": "white",
           "lakecolor": "white",
           "landcolor": "#E5ECF6",
           "showlakes": true,
           "showland": true,
           "subunitcolor": "white"
          },
          "hoverlabel": {
           "align": "left"
          },
          "hovermode": "closest",
          "mapbox": {
           "style": "light"
          },
          "paper_bgcolor": "white",
          "plot_bgcolor": "#E5ECF6",
          "polar": {
           "angularaxis": {
            "gridcolor": "white",
            "linecolor": "white",
            "ticks": ""
           },
           "bgcolor": "#E5ECF6",
           "radialaxis": {
            "gridcolor": "white",
            "linecolor": "white",
            "ticks": ""
           }
          },
          "scene": {
           "xaxis": {
            "backgroundcolor": "#E5ECF6",
            "gridcolor": "white",
            "gridwidth": 2,
            "linecolor": "white",
            "showbackground": true,
            "ticks": "",
            "zerolinecolor": "white"
           },
           "yaxis": {
            "backgroundcolor": "#E5ECF6",
            "gridcolor": "white",
            "gridwidth": 2,
            "linecolor": "white",
            "showbackground": true,
            "ticks": "",
            "zerolinecolor": "white"
           },
           "zaxis": {
            "backgroundcolor": "#E5ECF6",
            "gridcolor": "white",
            "gridwidth": 2,
            "linecolor": "white",
            "showbackground": true,
            "ticks": "",
            "zerolinecolor": "white"
           }
          },
          "shapedefaults": {
           "line": {
            "color": "#2a3f5f"
           }
          },
          "ternary": {
           "aaxis": {
            "gridcolor": "white",
            "linecolor": "white",
            "ticks": ""
           },
           "baxis": {
            "gridcolor": "white",
            "linecolor": "white",
            "ticks": ""
           },
           "bgcolor": "#E5ECF6",
           "caxis": {
            "gridcolor": "white",
            "linecolor": "white",
            "ticks": ""
           }
          },
          "title": {
           "x": 0.05
          },
          "xaxis": {
           "automargin": true,
           "gridcolor": "white",
           "linecolor": "white",
           "ticks": "",
           "title": {
            "standoff": 15
           },
           "zerolinecolor": "white",
           "zerolinewidth": 2
          },
          "yaxis": {
           "automargin": true,
           "gridcolor": "white",
           "linecolor": "white",
           "ticks": "",
           "title": {
            "standoff": 15
           },
           "zerolinecolor": "white",
           "zerolinewidth": 2
          }
         }
        },
        "xaxis": {
         "anchor": "y",
         "domain": [
          0,
          1
         ],
         "title": {
          "text": "token_name"
         }
        },
        "yaxis": {
         "anchor": "x",
         "domain": [
          0,
          1
         ],
         "title": {
          "text": "num_holders"
         }
        }
       }
      }
     },
     "metadata": {},
     "output_type": "display_data"
    }
   ],
   "source": [
    "# Plot the results\n",
    "df = pd.DataFrame(xmetric_eth_holdings_results.records)\n",
    "\n",
    "fig = px.bar(df, x=\"token_name\", y=\"num_holders\", hover_data=df.columns)\n",
    "\n",
    "fig.show()"
   ]
  }
 ],
 "metadata": {
  "kernelspec": {
   "display_name": "Python 3.10.1 64-bit",
   "language": "python",
   "name": "python3"
  },
  "language_info": {
   "codemirror_mode": {
    "name": "ipython",
    "version": 3
   },
   "file_extension": ".py",
   "mimetype": "text/x-python",
   "name": "python",
   "nbconvert_exporter": "python",
   "pygments_lexer": "ipython3",
   "version": "3.10.1"
  },
  "orig_nbformat": 4,
  "vscode": {
   "interpreter": {
    "hash": "949777d72b0d2535278d3dc13498b2535136f6dfe0678499012e853ee9abcab1"
   }
  }
 },
 "nbformat": 4,
 "nbformat_minor": 2
}
